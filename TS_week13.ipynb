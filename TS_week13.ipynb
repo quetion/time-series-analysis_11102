{
  "nbformat": 4,
  "nbformat_minor": 0,
  "metadata": {
    "colab": {
      "provenance": [],
      "authorship_tag": "ABX9TyPpSIJKvnMp3ESsUK/phyC5",
      "include_colab_link": true
    },
    "kernelspec": {
      "name": "python3",
      "display_name": "Python 3"
    },
    "language_info": {
      "name": "python"
    }
  },
  "cells": [
    {
      "cell_type": "markdown",
      "metadata": {
        "id": "view-in-github",
        "colab_type": "text"
      },
      "source": [
        "<a href=\"https://colab.research.google.com/github/quetion/time-series-analysis_11102/blob/main/TS_week13.ipynb\" target=\"_parent\"><img src=\"https://colab.research.google.com/assets/colab-badge.svg\" alt=\"Open In Colab\"/></a>"
      ]
    },
    {
      "cell_type": "markdown",
      "source": [
        "# Week 13\n",
        "\n",
        "## random walk and simulation\n",
        "- model\n",
        "$$\n",
        "y_t = y_{t-1} +\\epsilon_t\n",
        "$$\n",
        "\n",
        "- code for Python\n",
        "\n",
        "## unit root `I(1)`\n",
        "- Definition\n",
        "- Example: AR(1)\n",
        "$$\n",
        "y_t = y_{t-1} + \\epsilon_t\n",
        "$$\n",
        "- First-order Difference\n",
        "$$\n",
        "\\Delta y_t = y_{t} - y_{t-1} = \\epsilon_t\n",
        "$$\n",
        "## spurious regression\n",
        "- Two indepenedet unit-root series has a significant linear relation.\n",
        "- Example\n",
        "$$\n",
        "y_t = \\beta_0 + \\beta_1 z_t + \\epsilon_t\n",
        "$$\n",
        "\n",
        "## ADF test\n",
        "- Test whether the series is a unit-root series.\n",
        "\n",
        "## detrend\n",
        "- de-deterministic-trend\n",
        "- de-stochastics-trend\n",
        "\n",
        "# (Optimal)\n",
        "\n",
        "## simulate stock price\n",
        "- Model\n",
        "$$\n",
        "\\frac{dS_t}{S_t} = \\mu dt + \\sigma dW_t\n",
        "$$\n",
        "- discretization\n",
        "$$\n",
        "fdfd\n",
        "$$\n",
        "## what is moving average\n",
        "- MA(5)\n",
        "$$\n",
        "ma(5)_t = \\frac{\\sum_{i=0}^4 y_{t-i}}{5}\n",
        "$$"
      ],
      "metadata": {
        "id": "yovqRgd-jtF4"
      }
    },
    {
      "cell_type": "code",
      "execution_count": 1,
      "metadata": {
        "id": "-yVEPrzNhbSP"
      },
      "outputs": [],
      "source": [
        "import numpy as np\n",
        "import pandas as pd\n",
        "import matplotlib.pyplot as plt # plot \n",
        "import statsmodels.api as sm # regression\n"
      ]
    },
    {
      "cell_type": "code",
      "source": [
        "!pip install yfinance\n",
        "import yfinance as yf # download data"
      ],
      "metadata": {
        "colab": {
          "base_uri": "https://localhost:8080/"
        },
        "id": "PEJs1jWIhzej",
        "outputId": "56a7cf11-8a7b-478d-9bce-37dad0f58556"
      },
      "execution_count": 2,
      "outputs": [
        {
          "output_type": "stream",
          "name": "stdout",
          "text": [
            "Looking in indexes: https://pypi.org/simple, https://us-python.pkg.dev/colab-wheels/public/simple/\n",
            "Requirement already satisfied: yfinance in /usr/local/lib/python3.10/dist-packages (0.2.18)\n",
            "Requirement already satisfied: pandas>=1.3.0 in /usr/local/lib/python3.10/dist-packages (from yfinance) (1.5.3)\n",
            "Requirement already satisfied: numpy>=1.16.5 in /usr/local/lib/python3.10/dist-packages (from yfinance) (1.22.4)\n",
            "Requirement already satisfied: requests>=2.26 in /usr/local/lib/python3.10/dist-packages (from yfinance) (2.27.1)\n",
            "Requirement already satisfied: multitasking>=0.0.7 in /usr/local/lib/python3.10/dist-packages (from yfinance) (0.0.11)\n",
            "Requirement already satisfied: lxml>=4.9.1 in /usr/local/lib/python3.10/dist-packages (from yfinance) (4.9.2)\n",
            "Requirement already satisfied: appdirs>=1.4.4 in /usr/local/lib/python3.10/dist-packages (from yfinance) (1.4.4)\n",
            "Requirement already satisfied: pytz>=2022.5 in /usr/local/lib/python3.10/dist-packages (from yfinance) (2022.7.1)\n",
            "Requirement already satisfied: frozendict>=2.3.4 in /usr/local/lib/python3.10/dist-packages (from yfinance) (2.3.7)\n",
            "Requirement already satisfied: cryptography>=3.3.2 in /usr/local/lib/python3.10/dist-packages (from yfinance) (40.0.2)\n",
            "Requirement already satisfied: beautifulsoup4>=4.11.1 in /usr/local/lib/python3.10/dist-packages (from yfinance) (4.11.2)\n",
            "Requirement already satisfied: html5lib>=1.1 in /usr/local/lib/python3.10/dist-packages (from yfinance) (1.1)\n",
            "Requirement already satisfied: soupsieve>1.2 in /usr/local/lib/python3.10/dist-packages (from beautifulsoup4>=4.11.1->yfinance) (2.4.1)\n",
            "Requirement already satisfied: cffi>=1.12 in /usr/local/lib/python3.10/dist-packages (from cryptography>=3.3.2->yfinance) (1.15.1)\n",
            "Requirement already satisfied: six>=1.9 in /usr/local/lib/python3.10/dist-packages (from html5lib>=1.1->yfinance) (1.16.0)\n",
            "Requirement already satisfied: webencodings in /usr/local/lib/python3.10/dist-packages (from html5lib>=1.1->yfinance) (0.5.1)\n",
            "Requirement already satisfied: python-dateutil>=2.8.1 in /usr/local/lib/python3.10/dist-packages (from pandas>=1.3.0->yfinance) (2.8.2)\n",
            "Requirement already satisfied: urllib3<1.27,>=1.21.1 in /usr/local/lib/python3.10/dist-packages (from requests>=2.26->yfinance) (1.26.15)\n",
            "Requirement already satisfied: certifi>=2017.4.17 in /usr/local/lib/python3.10/dist-packages (from requests>=2.26->yfinance) (2022.12.7)\n",
            "Requirement already satisfied: charset-normalizer~=2.0.0 in /usr/local/lib/python3.10/dist-packages (from requests>=2.26->yfinance) (2.0.12)\n",
            "Requirement already satisfied: idna<4,>=2.5 in /usr/local/lib/python3.10/dist-packages (from requests>=2.26->yfinance) (3.4)\n",
            "Requirement already satisfied: pycparser in /usr/local/lib/python3.10/dist-packages (from cffi>=1.12->cryptography>=3.3.2->yfinance) (2.21)\n"
          ]
        }
      ]
    },
    {
      "cell_type": "code",
      "source": [
        "# generate random variable\n",
        "np.random.choice([-1,1],p=(0.5,0.5))\n",
        "# generate N(0,1)\n",
        "np.random.randn() \n",
        "\n",
        "#1.1 random walk with [-1,1]\n",
        "#solution 1\n",
        "y = np.zeros(100)\n",
        "for i in range(1,100):\n",
        "  y[i] = y[i-1] + np.random.choice([-1,1],p=(0.5,0.5))\n",
        "plt.plot(y)\n",
        "#solution 2 (cumsum)\n",
        "x = np.random.choice([-1,1],100)\n",
        "y = x.cumsum()\n",
        "print(x[0:10])\n",
        "print(y[0:10])\n",
        "#plt.plot(y)"
      ],
      "metadata": {
        "id": "Hd6c7Munumyv"
      },
      "execution_count": null,
      "outputs": []
    },
    {
      "cell_type": "code",
      "source": [
        "#solution 2 (cumsum)\n",
        "x = np.random.choice([-1,1],100)\n",
        "y = x.cumsum()\n",
        "#print(x[0:10])\n",
        "#print(y[0:10])\n",
        "plt.plot(y)"
      ],
      "metadata": {
        "id": "lPHtVwNM2DA3",
        "outputId": "84c329f0-08a9-4bde-b573-131c3f8587e3",
        "colab": {
          "base_uri": "https://localhost:8080/",
          "height": 448
        }
      },
      "execution_count": 24,
      "outputs": [
        {
          "output_type": "execute_result",
          "data": {
            "text/plain": [
              "[<matplotlib.lines.Line2D at 0x7f087b30ab90>]"
            ]
          },
          "metadata": {},
          "execution_count": 24
        },
        {
          "output_type": "display_data",
          "data": {
            "text/plain": [
              "<Figure size 640x480 with 1 Axes>"
            ],
            "image/png": "[encoded data removed]"
          },
          "metadata": {}
        }
      ]
    },
    {
      "cell_type": "code",
      "source": [
        "#1.2 random walk with N(0,1)\n",
        "# solution1\n",
        "y = np.zeros(100)\n",
        "for i in range(1,100):\n",
        "  y[i] = y[i-1] + np.random.randn()\n",
        "plt.plot(y) \n",
        "# solution2\n",
        "y = np.random.randn(100).cumsum()\n",
        "plt.plot(y)"
      ],
      "metadata": {
        "id": "xL6Rb10kyBxs"
      },
      "execution_count": null,
      "outputs": []
    },
    {
      "cell_type": "code",
      "source": [
        "# solution2\n",
        "y = np.random.randn(100).cumsum()\n",
        "plt.plot(y)"
      ],
      "metadata": {
        "id": "9WsDH6K6xe3t",
        "outputId": "74f66bdf-ea04-4b58-e6e9-e181ed220019",
        "colab": {
          "base_uri": "https://localhost:8080/",
          "height": 448
        }
      },
      "execution_count": 25,
      "outputs": [
        {
          "output_type": "execute_result",
          "data": {
            "text/plain": [
              "[<matplotlib.lines.Line2D at 0x7f087af23f10>]"
            ]
          },
          "metadata": {},
          "execution_count": 25
        },
        {
          "output_type": "display_data",
          "data": {
            "text/plain": [
              "<Figure size 640x480 with 1 Axes>"
            ],
            "image/png": "[encoded data removed]"
          },
          "metadata": {}
        }
      ]
    },
    {
      "cell_type": "code",
      "source": [
        "# surprious regression \n",
        "# unit-root y_t z_t\n",
        "y = np.random.randn(500).cumsum()\n",
        "z = np.random.randn(500).cumsum()\n",
        "# run regression y and z\n",
        "y = pd.DataFrame(y)\n",
        "x = sm.add_constant(pd.DataFrame(z))\n",
        "res = sm.OLS(y,x,missing='drop').fit()\n",
        "print(res.summary())\n",
        "res.pvalues"
      ],
      "metadata": {
        "id": "MF3yyN8Y7HaP",
        "outputId": "948ee52a-a0fd-4b7f-d71e-263dddd8c128",
        "colab": {
          "base_uri": "https://localhost:8080/"
        }
      },
      "execution_count": 43,
      "outputs": [
        {
          "output_type": "stream",
          "name": "stdout",
          "text": [
            "                            OLS Regression Results                            \n",
            "==============================================================================\n",
            "Dep. Variable:                      0   R-squared:                       0.060\n",
            "Model:                            OLS   Adj. R-squared:                  0.058\n",
            "Method:                 Least Squares   F-statistic:                     31.89\n",
            "Date:                Thu, 11 May 2023   Prob (F-statistic):           2.74e-08\n",
            "Time:                        04:12:32   Log-Likelihood:                -1544.6\n",
            "No. Observations:                 500   AIC:                             3093.\n",
            "Df Residuals:                     498   BIC:                             3102.\n",
            "Df Model:                           1                                         \n",
            "Covariance Type:            nonrobust                                         \n",
            "==============================================================================\n",
            "                 coef    std err          t      P>|t|      [0.025      0.975]\n",
            "------------------------------------------------------------------------------\n",
            "const         14.8995      0.243     61.295      0.000      14.422      15.377\n",
            "0              0.2141      0.038      5.647      0.000       0.140       0.289\n",
            "==============================================================================\n",
            "Omnibus:                        2.229   Durbin-Watson:                   0.036\n",
            "Prob(Omnibus):                  0.328   Jarque-Bera (JB):                2.238\n",
            "Skew:                          -0.122   Prob(JB):                        0.327\n",
            "Kurtosis:                       2.781   Cond. No.                         6.55\n",
            "==============================================================================\n",
            "\n",
            "Notes:\n",
            "[1] Standard Errors assume that the covariance matrix of the errors is correctly specified.\n"
          ]
        },
        {
          "output_type": "execute_result",
          "data": {
            "text/plain": [
              "const    3.914355e-234\n",
              "0         2.741947e-08\n",
              "dtype: float64"
            ]
          },
          "metadata": {},
          "execution_count": 43
        }
      ]
    },
    {
      "cell_type": "code",
      "source": [
        "# surprious regression\n",
        "pp = np.ones(100)\n",
        "for i in range(100): \n",
        "  # unit-root y_t\n",
        "  y = np.random.randn(500).cumsum()\n",
        "  z = np.random.randn(500).cumsum()\n",
        "  # run regression y and z\n",
        "  y = pd.DataFrame(y)\n",
        "  x = sm.add_constant(pd.DataFrame(z))\n",
        "  res = sm.OLS(y,x,missing='drop').fit()\n",
        "  pp[i] = res.pvalues[0]\n",
        "num = (pp<0.05).sum()\n",
        "#print(num)"
      ],
      "metadata": {
        "id": "bklo8wHq9-HD"
      },
      "execution_count": 44,
      "outputs": []
    },
    {
      "cell_type": "code",
      "source": [
        "(pp<0.05).sum()"
      ],
      "metadata": {
        "id": "vcmZ1JCPBbk7",
        "outputId": "3a2c392c-3255-41bc-8260-b03d56559d2d",
        "colab": {
          "base_uri": "https://localhost:8080/"
        }
      },
      "execution_count": 48,
      "outputs": [
        {
          "output_type": "execute_result",
          "data": {
            "text/plain": [
              "86"
            ]
          },
          "metadata": {},
          "execution_count": 48
        }
      ]
    },
    {
      "cell_type": "code",
      "source": [
        "# download data \"BTC-USD\"\n",
        "data = yf.download('BTC-USD')"
      ],
      "metadata": {
        "colab": {
          "base_uri": "https://localhost:8080/"
        },
        "id": "Jw_2YqkTih0A",
        "outputId": "b75f8455-efe5-49a7-bc47-4ddc3afad9fb"
      },
      "execution_count": 56,
      "outputs": [
        {
          "output_type": "stream",
          "name": "stdout",
          "text": [
            "\r[*********************100%***********************]  1 of 1 completed\n"
          ]
        }
      ]
    },
    {
      "cell_type": "code",
      "source": [
        "data = data['2017':'2023']\n",
        "data = data[['Close']]\n",
        "data.columns = ['price_btc']"
      ],
      "metadata": {
        "id": "JKJUumObjEN-"
      },
      "execution_count": 57,
      "outputs": []
    },
    {
      "cell_type": "code",
      "source": [
        "data['ret_btc'] = np.log(data.price_btc).diff()"
      ],
      "metadata": {
        "id": "sh6MFerYDPG9"
      },
      "execution_count": 58,
      "outputs": []
    },
    {
      "cell_type": "code",
      "source": [
        "data.head()"
      ],
      "metadata": {
        "id": "uaRFQ18yDi5a",
        "outputId": "dd8cf808-6260-4d12-f69a-dd071fe52697",
        "colab": {
          "base_uri": "https://localhost:8080/",
          "height": 237
        }
      },
      "execution_count": 61,
      "outputs": [
        {
          "output_type": "execute_result",
          "data": {
            "text/plain": [
              "              price_btc   ret_btc\n",
              "Date                             \n",
              "2017-01-01   998.325012       NaN\n",
              "2017-01-02  1021.750000  0.023193\n",
              "2017-01-03  1043.839966  0.021389\n",
              "2017-01-04  1154.729980  0.100960\n",
              "2017-01-05  1013.380005 -0.130575"
            ],
            "text/html": [
              "\n",
              "  <div id=\"df-875ea9f8-df2f-4889-a5f9-00859412c0b6\">\n",
              "    <div class=\"colab-df-container\">\n",
              "      <div>\n",
              "<style scoped>\n",
              "    .dataframe tbody tr th:only-of-type {\n",
              "        vertical-align: middle;\n",
              "    }\n",
              "\n",
              "    .dataframe tbody tr th {\n",
              "        vertical-align: top;\n",
              "    }\n",
              "\n",
              "    .dataframe thead th {\n",
              "        text-align: right;\n",
              "    }\n",
              "</style>\n",
              "<table border=\"1\" class=\"dataframe\">\n",
              "  <thead>\n",
              "    <tr style=\"text-align: right;\">\n",
              "      <th></th>\n",
              "      <th>price_btc</th>\n",
              "      <th>ret_btc</th>\n",
              "    </tr>\n",
              "    <tr>\n",
              "      <th>Date</th>\n",
              "      <th></th>\n",
              "      <th></th>\n",
              "    </tr>\n",
              "  </thead>\n",
              "  <tbody>\n",
              "    <tr>\n",
              "      <th>2017-01-01</th>\n",
              "      <td>998.325012</td>\n",
              "      <td>NaN</td>\n",
              "    </tr>\n",
              "    <tr>\n",
              "      <th>2017-01-02</th>\n",
              "      <td>1021.750000</td>\n",
              "      <td>0.023193</td>\n",
              "    </tr>\n",
              "    <tr>\n",
              "      <th>2017-01-03</th>\n",
              "      <td>1043.839966</td>\n",
              "      <td>0.021389</td>\n",
              "    </tr>\n",
              "    <tr>\n",
              "      <th>2017-01-04</th>\n",
              "      <td>1154.729980</td>\n",
              "      <td>0.100960</td>\n",
              "    </tr>\n",
              "    <tr>\n",
              "      <th>2017-01-05</th>\n",
              "      <td>1013.380005</td>\n",
              "      <td>-0.130575</td>\n",
              "    </tr>\n",
              "  </tbody>\n",
              "</table>\n",
              "</div>\n",
              "      <button class=\"colab-df-convert\" onclick=\"convertToInteractive('df-875ea9f8-df2f-4889-a5f9-00859412c0b6')\"\n",
              "              title=\"Convert this dataframe to an interactive table.\"\n",
              "              style=\"display:none;\">\n",
              "        \n",
              "  <svg xmlns=\"http://www.w3.org/2000/svg\" height=\"24px\"viewBox=\"0 0 24 24\"\n",
              "       width=\"24px\">\n",
              "    <path d=\"M0 0h24v24H0V0z\" fill=\"none\"/>\n",
              "    <path d=\"M18.56 5.44l.94 2.06.94-2.06 2.06-.94-2.06-.94-.94-2.06-.94 2.06-2.06.94zm-11 1L8.5 8.5l.94-2.06 2.06-.94-2.06-.94L8.5 2.5l-.94 2.06-2.06.94zm10 10l.94 2.06.94-2.06 2.06-.94-2.06-.94-.94-2.06-.94 2.06-2.06.94z\"/><path d=\"M17.41 7.96l-1.37-1.37c-.4-.4-.92-.59-1.43-.59-.52 0-1.04.2-1.43.59L10.3 9.45l-7.72 7.72c-.78.78-.78 2.05 0 2.83L4 21.41c.39.39.9.59 1.41.59.51 0 1.02-.2 1.41-.59l7.78-7.78 2.81-2.81c.8-.78.8-2.07 0-2.86zM5.41 20L4 18.59l7.72-7.72 1.47 1.35L5.41 20z\"/>\n",
              "  </svg>\n",
              "      </button>\n",
              "      \n",
              "  <style>\n",
              "    .colab-df-container {\n",
              "      display:flex;\n",
              "      flex-wrap:wrap;\n",
              "      gap: 12px;\n",
              "    }\n",
              "\n",
              "    .colab-df-convert {\n",
              "      background-color: #E8F0FE;\n",
              "      border: none;\n",
              "      border-radius: 50%;\n",
              "      cursor: pointer;\n",
              "      display: none;\n",
              "      fill: #1967D2;\n",
              "      height: 32px;\n",
              "      padding: 0 0 0 0;\n",
              "      width: 32px;\n",
              "    }\n",
              "\n",
              "    .colab-df-convert:hover {\n",
              "      background-color: #E2EBFA;\n",
              "      box-shadow: 0px 1px 2px rgba(60, 64, 67, 0.3), 0px 1px 3px 1px rgba(60, 64, 67, 0.15);\n",
              "      fill: #174EA6;\n",
              "    }\n",
              "\n",
              "    [theme=dark] .colab-df-convert {\n",
              "      background-color: #3B4455;\n",
              "      fill: #D2E3FC;\n",
              "    }\n",
              "\n",
              "    [theme=dark] .colab-df-convert:hover {\n",
              "      background-color: #434B5C;\n",
              "      box-shadow: 0px 1px 3px 1px rgba(0, 0, 0, 0.15);\n",
              "      filter: drop-shadow(0px 1px 2px rgba(0, 0, 0, 0.3));\n",
              "      fill: #FFFFFF;\n",
              "    }\n",
              "  </style>\n",
              "\n",
              "      <script>\n",
              "        const buttonEl =\n",
              "          document.querySelector('#df-875ea9f8-df2f-4889-a5f9-00859412c0b6 button.colab-df-convert');\n",
              "        buttonEl.style.display =\n",
              "          google.colab.kernel.accessAllowed ? 'block' : 'none';\n",
              "\n",
              "        async function convertToInteractive(key) {\n",
              "          const element = document.querySelector('#df-875ea9f8-df2f-4889-a5f9-00859412c0b6');\n",
              "          const dataTable =\n",
              "            await google.colab.kernel.invokeFunction('convertToInteractive',\n",
              "                                                     [key], {});\n",
              "          if (!dataTable) return;\n",
              "\n",
              "          const docLinkHtml = 'Like what you see? Visit the ' +\n",
              "            '<a target=\"_blank\" href=https://colab.research.google.com/notebooks/data_table.ipynb>data table notebook</a>'\n",
              "            + ' to learn more about interactive tables.';\n",
              "          element.innerHTML = '';\n",
              "          dataTable['output_type'] = 'display_data';\n",
              "          await google.colab.output.renderOutput(dataTable, element);\n",
              "          const docLink = document.createElement('div');\n",
              "          docLink.innerHTML = docLinkHtml;\n",
              "          element.appendChild(docLink);\n",
              "        }\n",
              "      </script>\n",
              "    </div>\n",
              "  </div>\n",
              "  "
            ]
          },
          "metadata": {},
          "execution_count": 61
        }
      ]
    },
    {
      "cell_type": "code",
      "source": [
        "# test whether btc price is unit-root\n",
        "#res_adf = sm.tsa.stattools.adfuller(data.price_btc)\n",
        "# test whether btc return is unit-root\n",
        "res_adf = sm.tsa.stattools.adfuller(data.ret_btc[1:])"
      ],
      "metadata": {
        "id": "gH7Jx8Yyh0zn"
      },
      "execution_count": 62,
      "outputs": []
    },
    {
      "cell_type": "markdown",
      "source": [],
      "metadata": {
        "id": "nBRqxaDbDe6a"
      }
    },
    {
      "cell_type": "code",
      "source": [
        "res_adf\n",
        "# Conclusion: do not reject H0 (-1.67 > -2.567)"
      ],
      "metadata": {
        "colab": {
          "base_uri": "https://localhost:8080/"
        },
        "id": "8A5Z3CwYiU51",
        "outputId": "ed44400d-d49e-4382-dcae-950759ec2766"
      },
      "execution_count": 63,
      "outputs": [
        {
          "output_type": "execute_result",
          "data": {
            "text/plain": [
              "(-33.25000008192204,\n",
              " 0.0,\n",
              " 1,\n",
              " 2319,\n",
              " {'1%': -3.433173007001078,\n",
              "  '5%': -2.8627871467151595,\n",
              "  '10%': -2.56743391172832},\n",
              " -8238.818828953052)"
            ]
          },
          "metadata": {},
          "execution_count": 63
        }
      ]
    },
    {
      "cell_type": "code",
      "source": [],
      "metadata": {
        "id": "UmL5E9VjjX7A"
      },
      "execution_count": null,
      "outputs": []
    }
  ]
}