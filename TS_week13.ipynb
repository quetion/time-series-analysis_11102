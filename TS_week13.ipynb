{
  "nbformat": 4,
  "nbformat_minor": 0,
  "metadata": {
    "colab": {
      "provenance": [],
      "authorship_tag": "ABX9TyOP4QOmqHxDeiePVwumdDFd",
      "include_colab_link": true
    },
    "kernelspec": {
      "name": "python3",
      "display_name": "Python 3"
    },
    "language_info": {
      "name": "python"
    }
  },
  "cells": [
    {
      "cell_type": "markdown",
      "metadata": {
        "id": "view-in-github",
        "colab_type": "text"
      },
      "source": [
        "<a href=\"https://colab.research.google.com/github/quetion/time-series-analysis_11102/blob/main/TS_week13.ipynb\" target=\"_parent\"><img src=\"https://colab.research.google.com/assets/colab-badge.svg\" alt=\"Open In Colab\"/></a>"
      ]
    },
    {
      "cell_type": "markdown",
      "source": [
        "# Week 13\n",
        "\n",
        "## random walk and simulation\n",
        "- model\n",
        "$$\n",
        "y_t = y_{t-1} +\\epsilon_t\n",
        "$$\n",
        "\n",
        "- code for Python\n",
        "\n",
        "## unit root `I(1)`\n",
        "- Definition\n",
        "- Example: AR(1)\n",
        "$$\n",
        "y_t = y_{t-1} + \\epsilon_t\n",
        "$$\n",
        "\n",
        "## spurious regression\n",
        "- Two indepenedet unit-root series has a significant linear relation.\n",
        "- Example\n",
        "$$\n",
        "y_t = z_t + \\epsilon_t\n",
        "$$\n",
        "\n",
        "## ADF test\n",
        "- Test whether the series is a unit-root series.\n",
        "\n",
        "## detrend\n",
        "- de-deterministic-trend\n",
        "- de-stochastics-trend\n",
        "\n",
        "# (Optimal)\n",
        "\n",
        "## simulate stock price\n",
        "- Model\n",
        "$$\n",
        "\\frac{dS_t}{S_t} = \\mu dt + \\sigma dW_t\n",
        "$$\n",
        "- discretization\n",
        "$$\n",
        "fdfd\n",
        "$$\n",
        "## what is moving average\n",
        "- MA(5)\n",
        "$$\n",
        "ma(5)_t = \\frac{\\sum_{i=0}^4 y_{t-i}}{5}\n",
        "$$"
      ],
      "metadata": {
        "id": "yovqRgd-jtF4"
      }
    },
    {
      "cell_type": "code",
      "execution_count": 6,
      "metadata": {
        "id": "-yVEPrzNhbSP"
      },
      "outputs": [],
      "source": [
        "import numpy as np\n",
        "import pandas as pd\n",
        "import matplotlib.pyplot as plt # plot \n",
        "import statsmodels.api as sm # regression\n"
      ]
    },
    {
      "cell_type": "code",
      "source": [
        "!pip install yfinance\n",
        "import yfinance as yf # download data"
      ],
      "metadata": {
        "colab": {
          "base_uri": "https://localhost:8080/"
        },
        "id": "PEJs1jWIhzej",
        "outputId": "804a5c00-de48-4fc3-d0be-97ff966533e7"
      },
      "execution_count": 7,
      "outputs": [
        {
          "output_type": "stream",
          "name": "stdout",
          "text": [
            "Looking in indexes: https://pypi.org/simple, https://us-python.pkg.dev/colab-wheels/public/simple/\n",
            "Requirement already satisfied: yfinance in /usr/local/lib/python3.10/dist-packages (0.2.18)\n",
            "Requirement already satisfied: pandas>=1.3.0 in /usr/local/lib/python3.10/dist-packages (from yfinance) (1.5.3)\n",
            "Requirement already satisfied: numpy>=1.16.5 in /usr/local/lib/python3.10/dist-packages (from yfinance) (1.22.4)\n",
            "Requirement already satisfied: requests>=2.26 in /usr/local/lib/python3.10/dist-packages (from yfinance) (2.27.1)\n",
            "Requirement already satisfied: multitasking>=0.0.7 in /usr/local/lib/python3.10/dist-packages (from yfinance) (0.0.11)\n",
            "Requirement already satisfied: lxml>=4.9.1 in /usr/local/lib/python3.10/dist-packages (from yfinance) (4.9.2)\n",
            "Requirement already satisfied: appdirs>=1.4.4 in /usr/local/lib/python3.10/dist-packages (from yfinance) (1.4.4)\n",
            "Requirement already satisfied: pytz>=2022.5 in /usr/local/lib/python3.10/dist-packages (from yfinance) (2022.7.1)\n",
            "Requirement already satisfied: frozendict>=2.3.4 in /usr/local/lib/python3.10/dist-packages (from yfinance) (2.3.7)\n",
            "Requirement already satisfied: cryptography>=3.3.2 in /usr/local/lib/python3.10/dist-packages (from yfinance) (40.0.2)\n",
            "Requirement already satisfied: beautifulsoup4>=4.11.1 in /usr/local/lib/python3.10/dist-packages (from yfinance) (4.11.2)\n",
            "Requirement already satisfied: html5lib>=1.1 in /usr/local/lib/python3.10/dist-packages (from yfinance) (1.1)\n",
            "Requirement already satisfied: soupsieve>1.2 in /usr/local/lib/python3.10/dist-packages (from beautifulsoup4>=4.11.1->yfinance) (2.4.1)\n",
            "Requirement already satisfied: cffi>=1.12 in /usr/local/lib/python3.10/dist-packages (from cryptography>=3.3.2->yfinance) (1.15.1)\n",
            "Requirement already satisfied: six>=1.9 in /usr/local/lib/python3.10/dist-packages (from html5lib>=1.1->yfinance) (1.16.0)\n",
            "Requirement already satisfied: webencodings in /usr/local/lib/python3.10/dist-packages (from html5lib>=1.1->yfinance) (0.5.1)\n",
            "Requirement already satisfied: python-dateutil>=2.8.1 in /usr/local/lib/python3.10/dist-packages (from pandas>=1.3.0->yfinance) (2.8.2)\n",
            "Requirement already satisfied: urllib3<1.27,>=1.21.1 in /usr/local/lib/python3.10/dist-packages (from requests>=2.26->yfinance) (1.26.15)\n",
            "Requirement already satisfied: certifi>=2017.4.17 in /usr/local/lib/python3.10/dist-packages (from requests>=2.26->yfinance) (2022.12.7)\n",
            "Requirement already satisfied: charset-normalizer~=2.0.0 in /usr/local/lib/python3.10/dist-packages (from requests>=2.26->yfinance) (2.0.12)\n",
            "Requirement already satisfied: idna<4,>=2.5 in /usr/local/lib/python3.10/dist-packages (from requests>=2.26->yfinance) (3.4)\n",
            "Requirement already satisfied: pycparser in /usr/local/lib/python3.10/dist-packages (from cffi>=1.12->cryptography>=3.3.2->yfinance) (2.21)\n"
          ]
        }
      ]
    },
    {
      "cell_type": "code",
      "source": [
        "# download data \"BTC-USD\"\n",
        "data = yf.download('BTC-USD')"
      ],
      "metadata": {
        "colab": {
          "base_uri": "https://localhost:8080/"
        },
        "id": "Jw_2YqkTih0A",
        "outputId": "5ca10b52-8753-47e9-b381-ef0d3ed3e5e9"
      },
      "execution_count": 10,
      "outputs": [
        {
          "output_type": "stream",
          "name": "stdout",
          "text": [
            "\r[*********************100%***********************]  1 of 1 completed\n",
            "<class 'pandas.core.frame.DataFrame'>\n",
            "DatetimeIndex: 2321 entries, 2017-01-01 to 2023-05-11\n",
            "Data columns (total 6 columns):\n",
            " #   Column     Non-Null Count  Dtype  \n",
            "---  ------     --------------  -----  \n",
            " 0   Open       2321 non-null   float64\n",
            " 1   High       2321 non-null   float64\n",
            " 2   Low        2321 non-null   float64\n",
            " 3   Close      2321 non-null   float64\n",
            " 4   Adj Close  2321 non-null   float64\n",
            " 5   Volume     2321 non-null   int64  \n",
            "dtypes: float64(5), int64(1)\n",
            "memory usage: 126.9 KB\n"
          ]
        }
      ]
    },
    {
      "cell_type": "code",
      "source": [
        "data = data['2017':'2023']\n",
        "data = data[['Close']]\n",
        "data.columns = ['price_btc']"
      ],
      "metadata": {
        "id": "JKJUumObjEN-"
      },
      "execution_count": 12,
      "outputs": []
    },
    {
      "cell_type": "code",
      "source": [
        "res_adf = sm.tsa.stattools.adfuller(data.price_btc)"
      ],
      "metadata": {
        "id": "gH7Jx8Yyh0zn"
      },
      "execution_count": 14,
      "outputs": []
    },
    {
      "cell_type": "code",
      "source": [
        "res_adf[2]"
      ],
      "metadata": {
        "colab": {
          "base_uri": "https://localhost:8080/"
        },
        "id": "8A5Z3CwYiU51",
        "outputId": "affacfdb-d452-4b1a-aaec-e505d3cf3ce7"
      },
      "execution_count": 18,
      "outputs": [
        {
          "output_type": "execute_result",
          "data": {
            "text/plain": [
              "27"
            ]
          },
          "metadata": {},
          "execution_count": 18
        }
      ]
    },
    {
      "cell_type": "code",
      "source": [],
      "metadata": {
        "id": "UmL5E9VjjX7A"
      },
      "execution_count": null,
      "outputs": []
    }
  ]
}