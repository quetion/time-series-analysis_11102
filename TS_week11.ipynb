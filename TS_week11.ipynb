{
  "nbformat": 4,
  "nbformat_minor": 0,
  "metadata": {
    "colab": {
      "provenance": [],
      "authorship_tag": "ABX9TyMl6zk/1B4IWxoQOwG3s+V1",
      "include_colab_link": true
    },
    "kernelspec": {
      "name": "python3",
      "display_name": "Python 3"
    },
    "language_info": {
      "name": "python"
    }
  },
  "cells": [
    {
      "cell_type": "markdown",
      "metadata": {
        "id": "view-in-github",
        "colab_type": "text"
      },
      "source": [
        "<a href=\"https://colab.research.google.com/github/quetion/time-series-analysis_11102/blob/main/TS_week11.ipynb\" target=\"_parent\"><img src=\"https://colab.research.google.com/assets/colab-badge.svg\" alt=\"Open In Colab\"/></a>"
      ]
    },
    {
      "cell_type": "code",
      "execution_count": 1,
      "metadata": {
        "id": "Hz0HZ6S1Ry-r"
      },
      "outputs": [],
      "source": [
        "import numpy as np\n",
        "import pandas as pd\n",
        "import matplotlib.pyplot as plt # plot \n",
        "import statsmodels.api as sm # regression "
      ]
    },
    {
      "cell_type": "code",
      "source": [
        "!pip install yfinance\n",
        "import yfinance as yf # download data"
      ],
      "metadata": {
        "id": "u_G9qudLSNG2",
        "outputId": "6f523a32-d100-4c80-d8cc-6dff51b9f49b",
        "colab": {
          "base_uri": "https://localhost:8080/"
        }
      },
      "execution_count": 2,
      "outputs": [
        {
          "output_type": "stream",
          "name": "stdout",
          "text": [
            "Looking in indexes: https://pypi.org/simple, https://us-python.pkg.dev/colab-wheels/public/simple/\n",
            "Requirement already satisfied: yfinance in /usr/local/lib/python3.10/dist-packages (0.2.18)\n",
            "Requirement already satisfied: pandas>=1.3.0 in /usr/local/lib/python3.10/dist-packages (from yfinance) (1.5.3)\n",
            "Requirement already satisfied: numpy>=1.16.5 in /usr/local/lib/python3.10/dist-packages (from yfinance) (1.22.4)\n",
            "Requirement already satisfied: pytz>=2022.5 in /usr/local/lib/python3.10/dist-packages (from yfinance) (2022.7.1)\n",
            "Requirement already satisfied: lxml>=4.9.1 in /usr/local/lib/python3.10/dist-packages (from yfinance) (4.9.2)\n",
            "Requirement already satisfied: beautifulsoup4>=4.11.1 in /usr/local/lib/python3.10/dist-packages (from yfinance) (4.11.2)\n",
            "Requirement already satisfied: requests>=2.26 in /usr/local/lib/python3.10/dist-packages (from yfinance) (2.27.1)\n",
            "Requirement already satisfied: html5lib>=1.1 in /usr/local/lib/python3.10/dist-packages (from yfinance) (1.1)\n",
            "Requirement already satisfied: cryptography>=3.3.2 in /usr/local/lib/python3.10/dist-packages (from yfinance) (40.0.2)\n",
            "Requirement already satisfied: frozendict>=2.3.4 in /usr/local/lib/python3.10/dist-packages (from yfinance) (2.3.7)\n",
            "Requirement already satisfied: multitasking>=0.0.7 in /usr/local/lib/python3.10/dist-packages (from yfinance) (0.0.11)\n",
            "Requirement already satisfied: appdirs>=1.4.4 in /usr/local/lib/python3.10/dist-packages (from yfinance) (1.4.4)\n",
            "Requirement already satisfied: soupsieve>1.2 in /usr/local/lib/python3.10/dist-packages (from beautifulsoup4>=4.11.1->yfinance) (2.4.1)\n",
            "Requirement already satisfied: cffi>=1.12 in /usr/local/lib/python3.10/dist-packages (from cryptography>=3.3.2->yfinance) (1.15.1)\n",
            "Requirement already satisfied: webencodings in /usr/local/lib/python3.10/dist-packages (from html5lib>=1.1->yfinance) (0.5.1)\n",
            "Requirement already satisfied: six>=1.9 in /usr/local/lib/python3.10/dist-packages (from html5lib>=1.1->yfinance) (1.16.0)\n",
            "Requirement already satisfied: python-dateutil>=2.8.1 in /usr/local/lib/python3.10/dist-packages (from pandas>=1.3.0->yfinance) (2.8.2)\n",
            "Requirement already satisfied: urllib3<1.27,>=1.21.1 in /usr/local/lib/python3.10/dist-packages (from requests>=2.26->yfinance) (1.26.15)\n",
            "Requirement already satisfied: charset-normalizer~=2.0.0 in /usr/local/lib/python3.10/dist-packages (from requests>=2.26->yfinance) (2.0.12)\n",
            "Requirement already satisfied: certifi>=2017.4.17 in /usr/local/lib/python3.10/dist-packages (from requests>=2.26->yfinance) (2022.12.7)\n",
            "Requirement already satisfied: idna<4,>=2.5 in /usr/local/lib/python3.10/dist-packages (from requests>=2.26->yfinance) (3.4)\n",
            "Requirement already satisfied: pycparser in /usr/local/lib/python3.10/dist-packages (from cffi>=1.12->cryptography>=3.3.2->yfinance) (2.21)\n"
          ]
        }
      ]
    },
    {
      "cell_type": "code",
      "source": [
        "data = yf.download('GBPUSD=X',interval='1mo') # download 'GBPUSD=X' monthly data"
      ],
      "metadata": {
        "colab": {
          "base_uri": "https://localhost:8080/"
        },
        "id": "ehww44gvSQbN",
        "outputId": "6d007986-c8c0-42b9-b921-57ad95351b92"
      },
      "execution_count": 3,
      "outputs": [
        {
          "output_type": "stream",
          "name": "stdout",
          "text": [
            "\r[*********************100%***********************]  1 of 1 completed\n"
          ]
        }
      ]
    },
    {
      "cell_type": "code",
      "source": [
        "data = data['2004':'2023-04'] # set sample period: 2004/01 - 2023/04\n",
        "data = data[['Adj Close']] # select data variable: 'Adj Close'"
      ],
      "metadata": {
        "id": "-IUttHbfTUgv"
      },
      "execution_count": 4,
      "outputs": []
    },
    {
      "cell_type": "code",
      "source": [
        "data.info()"
      ],
      "metadata": {
        "id": "Za7fiN9UkADn",
        "outputId": "c5fa8b4d-7dca-4401-af67-c4ec92c465ce",
        "colab": {
          "base_uri": "https://localhost:8080/"
        }
      },
      "execution_count": 7,
      "outputs": [
        {
          "output_type": "stream",
          "name": "stdout",
          "text": [
            "<class 'pandas.core.frame.DataFrame'>\n",
            "DatetimeIndex: 232 entries, 2004-01-01 to 2023-04-01\n",
            "Data columns (total 1 columns):\n",
            " #   Column     Non-Null Count  Dtype  \n",
            "---  ------     --------------  -----  \n",
            " 0   Adj Close  232 non-null    float64\n",
            "dtypes: float64(1)\n",
            "memory usage: 3.6 KB\n"
          ]
        }
      ]
    },
    {
      "cell_type": "code",
      "source": [
        "data.columns = ['price_gbp'] # rename data columns\n",
        "data['ret_gbp'] = np.log(data.price_gbp).diff() # add return variable\n",
        "data.info()"
      ],
      "metadata": {
        "colab": {
          "base_uri": "https://localhost:8080/"
        },
        "id": "ggcCp79ZZhGm",
        "outputId": "39adaf85-5947-4b0c-b139-780df39ff8f0"
      },
      "execution_count": 8,
      "outputs": [
        {
          "output_type": "stream",
          "name": "stdout",
          "text": [
            "<class 'pandas.core.frame.DataFrame'>\n",
            "DatetimeIndex: 232 entries, 2004-01-01 to 2023-04-01\n",
            "Data columns (total 2 columns):\n",
            " #   Column     Non-Null Count  Dtype  \n",
            "---  ------     --------------  -----  \n",
            " 0   price_gbp  232 non-null    float64\n",
            " 1   ret_gbp    231 non-null    float64\n",
            "dtypes: float64(2)\n",
            "memory usage: 5.4 KB\n"
          ]
        }
      ]
    },
    {
      "cell_type": "code",
      "source": [
        "data.price_gbp.plot()"
      ],
      "metadata": {
        "colab": {
          "base_uri": "https://localhost:8080/",
          "height": 466
        },
        "id": "5zWCebpTTVS-",
        "outputId": "27d36633-5b45-48d6-aafb-42348d961529"
      },
      "execution_count": 9,
      "outputs": [
        {
          "output_type": "execute_result",
          "data": {
            "text/plain": [
              "<Axes: xlabel='Date'>"
            ]
          },
          "metadata": {},
          "execution_count": 9
        },
        {
          "output_type": "display_data",
          "data": {
            "text/plain": [
              "<Figure size 640x480 with 1 Axes>"
            ],
            "image/png": "[encoded data removed]"
          },
          "metadata": {}
        }
      ]
    },
    {
      "cell_type": "code",
      "source": [
        "data.ret_gbp.plot()"
      ],
      "metadata": {
        "colab": {
          "base_uri": "https://localhost:8080/",
          "height": 466
        },
        "id": "T545wO75WJ1I",
        "outputId": "d42dd08d-c60a-4bba-8894-b0da16aa5bc1"
      },
      "execution_count": 10,
      "outputs": [
        {
          "output_type": "execute_result",
          "data": {
            "text/plain": [
              "<Axes: xlabel='Date'>"
            ]
          },
          "metadata": {},
          "execution_count": 10
        },
        {
          "output_type": "display_data",
          "data": {
            "text/plain": [
              "<Figure size 640x480 with 1 Axes>"
            ],
            "image/png": "[encoded data removed]"
          },
          "metadata": {}
        }
      ]
    },
    {
      "cell_type": "code",
      "source": [
        "m = data.ret_gbp.mean() # 平均數\n",
        "annual_ret = m*12\n",
        "print(\"年化報酬率: {:.4f}\".format(annual_ret))\n",
        "sd = data.ret_gbp.std() # 標準差\n",
        "annual_sd = sd * (12)**(1/2)\n",
        "print(\"年化標準差: {:.4f}\".format(annual_sd))"
      ],
      "metadata": {
        "id": "FrxGG-AskeWa",
        "outputId": "67088aa3-71ee-4e88-ac05-d88e77c4a170",
        "colab": {
          "base_uri": "https://localhost:8080/"
        }
      },
      "execution_count": 15,
      "outputs": [
        {
          "output_type": "stream",
          "name": "stdout",
          "text": [
            "年化報酬率: -0.0193\n",
            "年化標準差: 0.0878\n"
          ]
        }
      ]
    },
    {
      "cell_type": "code",
      "source": [
        "(data.ret_gbp < 0).mean() # 負報酬的頻率\n",
        "test = data[data.ret_gbp < 0]\n",
        "test.ret_gbp.sum()"
      ],
      "metadata": {
        "id": "ZgRcBGjvmHUv",
        "outputId": "b57b5fa8-7ed7-4ebc-8ba8-de3734377a35",
        "colab": {
          "base_uri": "https://localhost:8080/"
        }
      },
      "execution_count": 21,
      "outputs": [
        {
          "output_type": "execute_result",
          "data": {
            "text/plain": [
              "-2.402123427589911"
            ]
          },
          "metadata": {},
          "execution_count": 21
        }
      ]
    },
    {
      "cell_type": "code",
      "source": [
        "# estimate random walk model\n",
        "data['const'] = 1 # construct the constant term\n",
        "y = data.ret_gbp\n",
        "x = data.const\n",
        "res_rw = sm.OLS(y,x,missing='drop').fit()\n",
        "print(res_rw.summary())"
      ],
      "metadata": {
        "colab": {
          "base_uri": "https://localhost:8080/"
        },
        "id": "PTA5kLgvWmAh",
        "outputId": "a4cfb2ca-e42f-43a7-ac08-7a06c8829af1"
      },
      "execution_count": 24,
      "outputs": [
        {
          "output_type": "stream",
          "name": "stdout",
          "text": [
            "                            OLS Regression Results                            \n",
            "==============================================================================\n",
            "Dep. Variable:                ret_gbp   R-squared:                      -0.000\n",
            "Model:                            OLS   Adj. R-squared:                 -0.000\n",
            "Method:                 Least Squares   F-statistic:                       nan\n",
            "Date:                Thu, 04 May 2023   Prob (F-statistic):                nan\n",
            "Time:                        02:55:04   Log-Likelihood:                 521.77\n",
            "No. Observations:                 231   AIC:                            -1042.\n",
            "Df Residuals:                     230   BIC:                            -1038.\n",
            "Df Model:                           0                                         \n",
            "Covariance Type:            nonrobust                                         \n",
            "==============================================================================\n",
            "                 coef    std err          t      P>|t|      [0.025      0.975]\n",
            "------------------------------------------------------------------------------\n",
            "const         -0.0016      0.002     -0.966      0.335      -0.005       0.002\n",
            "==============================================================================\n",
            "Omnibus:                       18.639   Durbin-Watson:                   1.887\n",
            "Prob(Omnibus):                  0.000   Jarque-Bera (JB):               36.156\n",
            "Skew:                          -0.409   Prob(JB):                     1.41e-08\n",
            "Kurtosis:                       4.757   Cond. No.                         1.00\n",
            "==============================================================================\n",
            "\n",
            "Notes:\n",
            "[1] Standard Errors assume that the covariance matrix of the errors is correctly specified.\n"
          ]
        }
      ]
    },
    {
      "cell_type": "code",
      "source": [
        "data['ret_gbp_1'] = data.ret_gbp.shift() # add lag-one term\n",
        "data['ret_gbp_2'] = data.ret_gbp.shift(2) # add lag-two term\n",
        "# estimate AR(1)\n",
        "y = data.ret_gbp\n",
        "x = sm.add_constant(data['ret_gbp_1'])\n",
        "res_ar1 = sm.OLS(y,x,missing='drop').fit()\n",
        "print(res_ar1.summary())"
      ],
      "metadata": {
        "colab": {
          "base_uri": "https://localhost:8080/"
        },
        "id": "YrvXnJKzXLqP",
        "outputId": "41d9c4b5-7606-460a-ffdc-93fdca470e6f"
      },
      "execution_count": 22,
      "outputs": [
        {
          "output_type": "stream",
          "name": "stdout",
          "text": [
            "                            OLS Regression Results                            \n",
            "==============================================================================\n",
            "Dep. Variable:                ret_gbp   R-squared:                       0.003\n",
            "Model:                            OLS   Adj. R-squared:                 -0.002\n",
            "Method:                 Least Squares   F-statistic:                    0.6444\n",
            "Date:                Thu, 04 May 2023   Prob (F-statistic):              0.423\n",
            "Time:                        02:40:59   Log-Likelihood:                 519.98\n",
            "No. Observations:                 230   AIC:                            -1036.\n",
            "Df Residuals:                     228   BIC:                            -1029.\n",
            "Df Model:                           1                                         \n",
            "Covariance Type:            nonrobust                                         \n",
            "==============================================================================\n",
            "                 coef    std err          t      P>|t|      [0.025      0.975]\n",
            "------------------------------------------------------------------------------\n",
            "const         -0.0016      0.002     -0.983      0.327      -0.005       0.002\n",
            "ret_gbp_1      0.0530      0.066      0.803      0.423      -0.077       0.183\n",
            "==============================================================================\n",
            "Omnibus:                       17.641   Durbin-Watson:                   2.003\n",
            "Prob(Omnibus):                  0.000   Jarque-Bera (JB):               33.548\n",
            "Skew:                          -0.393   Prob(JB):                     5.19e-08\n",
            "Kurtosis:                       4.698   Cond. No.                         39.5\n",
            "==============================================================================\n",
            "\n",
            "Notes:\n",
            "[1] Standard Errors assume that the covariance matrix of the errors is correctly specified.\n"
          ]
        }
      ]
    },
    {
      "cell_type": "code",
      "source": [
        "# estimate AR(2)\n",
        "y = data.ret_gbp\n",
        "x = sm.add_constant(data[['ret_gbp_1','ret_gbp_2']])\n",
        "res_ar2 = sm.OLS(y,x,missing='drop').fit()\n",
        "print(res_ar2.summary())"
      ],
      "metadata": {
        "colab": {
          "base_uri": "https://localhost:8080/"
        },
        "id": "Y8TSSfdAZIsp",
        "outputId": "a978b163-fb37-4032-b6d6-8c67f75ab508"
      },
      "execution_count": 25,
      "outputs": [
        {
          "output_type": "stream",
          "name": "stdout",
          "text": [
            "                            OLS Regression Results                            \n",
            "==============================================================================\n",
            "Dep. Variable:                ret_gbp   R-squared:                       0.018\n",
            "Model:                            OLS   Adj. R-squared:                  0.009\n",
            "Method:                 Least Squares   F-statistic:                     2.050\n",
            "Date:                Thu, 04 May 2023   Prob (F-statistic):              0.131\n",
            "Time:                        02:55:17   Log-Likelihood:                 519.13\n",
            "No. Observations:                 229   AIC:                            -1032.\n",
            "Df Residuals:                     226   BIC:                            -1022.\n",
            "Df Model:                           2                                         \n",
            "Covariance Type:            nonrobust                                         \n",
            "==============================================================================\n",
            "                 coef    std err          t      P>|t|      [0.025      0.975]\n",
            "------------------------------------------------------------------------------\n",
            "const         -0.0014      0.002     -0.811      0.418      -0.005       0.002\n",
            "ret_gbp_1      0.0502      0.066      0.760      0.448      -0.080       0.180\n",
            "ret_gbp_2      0.1212      0.066      1.836      0.068      -0.009       0.251\n",
            "==============================================================================\n",
            "Omnibus:                       13.915   Durbin-Watson:                   2.009\n",
            "Prob(Omnibus):                  0.001   Jarque-Bera (JB):               25.707\n",
            "Skew:                          -0.302   Prob(JB):                     2.62e-06\n",
            "Kurtosis:                       4.526   Cond. No.                         40.6\n",
            "==============================================================================\n",
            "\n",
            "Notes:\n",
            "[1] Standard Errors assume that the covariance matrix of the errors is correctly specified.\n"
          ]
        }
      ]
    },
    {
      "cell_type": "code",
      "source": [
        "# 估計結果各項物件 \n",
        "# For example, random walk model (benchmark)\n",
        "#res_rw.resid # 誤差\n",
        "#res_rw.params.const # 估計參數數值\n",
        "#res_rw.pvalues # p-values\n",
        "#res_rw.fittedvalues # fitted value of y\n",
        "#res_rw.tvalues # t-value"
      ],
      "metadata": {
        "colab": {
          "base_uri": "https://localhost:8080/"
        },
        "id": "rmGNSKGtZUWa",
        "outputId": "d61ad5ea-07cc-4de5-d37a-513ec79f1be3"
      },
      "execution_count": null,
      "outputs": [
        {
          "output_type": "execute_result",
          "data": {
            "text/plain": [
              "const   -0.988617\n",
              "dtype: float64"
            ]
          },
          "metadata": {},
          "execution_count": 27
        }
      ]
    },
    {
      "cell_type": "code",
      "source": [
        "data.ret_gbp[5] - res_rw.params.const"
      ],
      "metadata": {
        "colab": {
          "base_uri": "https://localhost:8080/"
        },
        "id": "VsIbV85J8upH",
        "outputId": "de02a524-e630-449c-8691-64758125f368"
      },
      "execution_count": null,
      "outputs": [
        {
          "output_type": "execute_result",
          "data": {
            "text/plain": [
              "-0.00514736442036889"
            ]
          },
          "metadata": {},
          "execution_count": 24
        }
      ]
    },
    {
      "cell_type": "code",
      "source": [
        "# 估計結果各項物件 \n",
        "# AR(1) model (benchmark)\n",
        "#res_ar1.resid # 誤差\n",
        "#res_ar1.params[1] # 估計參數數值\n",
        "#res_ar1.pvalues[1] # p-values\n",
        "res_ar1.fittedvalues # fitted value of y\n",
        "res_ar1.tvalues[0] # t-value"
      ],
      "metadata": {
        "colab": {
          "base_uri": "https://localhost:8080/"
        },
        "id": "CvhK0D2jc9bH",
        "outputId": "da3117af-73a9-4c7f-ee24-205856e11d16"
      },
      "execution_count": null,
      "outputs": [
        {
          "output_type": "execute_result",
          "data": {
            "text/plain": [
              "-1.0068977686888365"
            ]
          },
          "metadata": {},
          "execution_count": 39
        }
      ]
    },
    {
      "cell_type": "code",
      "source": [
        "data.ret_gbp[2] - (res_ar1.params[0] + res_ar1.params[1]*data.ret_gbp[1])"
      ],
      "metadata": {
        "colab": {
          "base_uri": "https://localhost:8080/"
        },
        "id": "FRXp9T7W9-Ft",
        "outputId": "cdde8acc-2cea-4d69-9140-d27469567378"
      },
      "execution_count": null,
      "outputs": [
        {
          "output_type": "execute_result",
          "data": {
            "text/plain": [
              "-0.016433965569872876"
            ]
          },
          "metadata": {},
          "execution_count": 34
        }
      ]
    },
    {
      "cell_type": "code",
      "source": [
        "# 估計結果各項物件 \n",
        "# AR(2) model (benchmark)\n",
        "res_ar2.resid # 誤差\n",
        "#res_ar1.params[1] # 估計參數數值\n",
        "#res_ar1.pvalues[1] # p-values\n",
        "#res_ar1.fittedvalues # fitted value of y\n",
        "#res_ar1.tvalues[0] # t-value"
      ],
      "metadata": {
        "colab": {
          "base_uri": "https://localhost:8080/"
        },
        "id": "ruO4TrMl-R5V",
        "outputId": "26c16269-6394-4ff7-95c0-9451fa06f98f"
      },
      "execution_count": null,
      "outputs": [
        {
          "output_type": "execute_result",
          "data": {
            "text/plain": [
              "Date\n",
              "2004-04-01   -0.036883\n",
              "2004-05-01    0.035097\n",
              "2004-06-01   -0.002463\n",
              "2004-07-01   -0.000902\n",
              "2004-08-01   -0.008640\n",
              "                ...   \n",
              "2022-12-01    0.008012\n",
              "2023-01-01    0.017955\n",
              "2023-02-01   -0.025088\n",
              "2023-03-01    0.026651\n",
              "2023-04-01    0.009824\n",
              "Length: 229, dtype: float64"
            ]
          },
          "metadata": {},
          "execution_count": 41
        }
      ]
    },
    {
      "cell_type": "code",
      "source": [
        "res_ar2.resid"
      ],
      "metadata": {
        "colab": {
          "base_uri": "https://localhost:8080/"
        },
        "id": "ISQX3_LzDenG",
        "outputId": "da7383d4-03f1-41b4-9053-feb33ee4fd59"
      },
      "execution_count": null,
      "outputs": [
        {
          "output_type": "execute_result",
          "data": {
            "text/plain": [
              "Date\n",
              "2004-04-01   -0.036883\n",
              "2004-05-01    0.035097\n",
              "2004-06-01   -0.002463\n",
              "2004-07-01   -0.000902\n",
              "2004-08-01   -0.008640\n",
              "                ...   \n",
              "2022-12-01    0.008012\n",
              "2023-01-01    0.017955\n",
              "2023-02-01   -0.025088\n",
              "2023-03-01    0.026651\n",
              "2023-04-01    0.009824\n",
              "Length: 229, dtype: float64"
            ]
          },
          "metadata": {},
          "execution_count": 69
        }
      ]
    },
    {
      "cell_type": "code",
      "source": [
        "# resid for 2004-04-01\n",
        "ans = res_ar2.resid[0]\n",
        "print('2004-04的誤差為{:.4f}'.format(ans))\n",
        "real_y = data.ret_gbp[3]\n",
        "est_y = res_ar2.params[0]+res_ar2.params[1]*data.ret_gbp[2]+res_ar2.params[2]*data.ret_gbp[1]\n",
        "myans = real_y - est_y\n",
        "print('實際估算結果為{:.4f}'.format(myans))\n"
      ],
      "metadata": {
        "colab": {
          "base_uri": "https://localhost:8080/"
        },
        "id": "q8MLTrhF_sFW",
        "outputId": "66d808a7-157f-426e-ea69-b7692e88f125"
      },
      "execution_count": null,
      "outputs": [
        {
          "output_type": "stream",
          "name": "stdout",
          "text": [
            "2004-04的誤差為-0.0369\n",
            "實際估算結果為-0.0369\n"
          ]
        }
      ]
    },
    {
      "cell_type": "code",
      "source": [
        "# resid for 2010-01-01\n",
        "loc = 9+5*12+1-1\n",
        "ans = res_ar2.resid[loc]\n",
        "print('2010-01的誤差為{:.4f}'.format(ans))\n",
        "real_y = data.ret_gbp[loc+3]\n",
        "est_y = res_ar2.params[0]+res_ar2.params[1]*data.ret_gbp[loc+2]+res_ar2.params[2]*data.ret_gbp[loc+1]\n",
        "myans = real_y - est_y\n",
        "print('2010-01實際估算結果為{:.4f}'.format(myans))\n"
      ],
      "metadata": {
        "colab": {
          "base_uri": "https://localhost:8080/"
        },
        "id": "vn2LE6KwCZKG",
        "outputId": "0da4e82e-109e-4d3a-c2af-b8e23a85e75a"
      },
      "execution_count": null,
      "outputs": [
        {
          "output_type": "stream",
          "name": "stdout",
          "text": [
            "2010-01的誤差為-0.0107\n",
            "2010-01實際估算結果為-0.0107\n"
          ]
        }
      ]
    },
    {
      "cell_type": "code",
      "source": [
        "# MSE的計算\n",
        "np.mean(res_ar2.resid**2)"
      ],
      "metadata": {
        "colab": {
          "base_uri": "https://localhost:8080/"
        },
        "id": "k1g16bToCsFj",
        "outputId": "787a7833-13c0-4792-b952-bd800551ffdf"
      },
      "execution_count": null,
      "outputs": [
        {
          "output_type": "execute_result",
          "data": {
            "text/plain": [
              "0.0006277325940326306"
            ]
          },
          "metadata": {},
          "execution_count": 75
        }
      ]
    },
    {
      "cell_type": "code",
      "source": [
        "res_rw.resid**2"
      ],
      "metadata": {
        "id": "chwxVktartdn",
        "outputId": "503bb66d-fccf-4c00-ab55-130b11071aa1",
        "colab": {
          "base_uri": "https://localhost:8080/"
        }
      },
      "execution_count": 26,
      "outputs": [
        {
          "output_type": "execute_result",
          "data": {
            "text/plain": [
              "Date\n",
              "2004-02-01    0.000821\n",
              "2004-03-01    0.000229\n",
              "2004-04-01    0.001167\n",
              "2004-05-01    0.000994\n",
              "2004-06-01    0.000027\n",
              "                ...   \n",
              "2022-12-01    0.000203\n",
              "2023-01-01    0.000503\n",
              "2023-02-01    0.000498\n",
              "2023-03-01    0.000798\n",
              "2023-04-01    0.000280\n",
              "Length: 231, dtype: float64"
            ]
          },
          "metadata": {},
          "execution_count": 26
        }
      ]
    },
    {
      "cell_type": "code",
      "source": [
        "# compare two models\n",
        "# rw & ar(1)\n",
        "d1 = res_rw.resid**2 - res_ar1.resid**2 \n",
        "const = np.ones(len(d1))\n",
        "y = d1\n",
        "x = const\n",
        "res_comp = sm.OLS(y,x,missing='drop').fit(cov_type='HAC',cov_kwds={'maxlags':10})\n",
        "# Newey-West standard error --> .fit(cov_type='HAC',cov_kwds={'maxlags':10})\n",
        "print(res_comp.summary())\n",
        "# 因為係數不顯著, 兩模型沒有顯著差異\n",
        "# 匯率資料一般會假定是服從隨機漫步模型(random walk model)\n"
      ],
      "metadata": {
        "id": "TYWk2J6rWJ-r",
        "outputId": "065f4210-67fe-44d8-ff01-0f91cb3dbffe",
        "colab": {
          "base_uri": "https://localhost:8080/"
        }
      },
      "execution_count": 27,
      "outputs": [
        {
          "output_type": "stream",
          "name": "stdout",
          "text": [
            "                            OLS Regression Results                            \n",
            "==============================================================================\n",
            "Dep. Variable:                      y   R-squared:                       0.000\n",
            "Model:                            OLS   Adj. R-squared:                  0.000\n",
            "Method:                 Least Squares   F-statistic:                       nan\n",
            "Date:                Thu, 04 May 2023   Prob (F-statistic):                nan\n",
            "Time:                        02:59:49   Log-Likelihood:                 1888.5\n",
            "No. Observations:                 230   AIC:                            -3775.\n",
            "Df Residuals:                     229   BIC:                            -3772.\n",
            "Df Model:                           0                                         \n",
            "Covariance Type:                  HAC                                         \n",
            "==============================================================================\n",
            "                 coef    std err          z      P>|z|      [0.025      0.975]\n",
            "------------------------------------------------------------------------------\n",
            "const       1.815e-06   6.33e-06      0.287      0.774   -1.06e-05    1.42e-05\n",
            "==============================================================================\n",
            "Omnibus:                      126.222   Durbin-Watson:                   1.601\n",
            "Prob(Omnibus):                  0.000   Jarque-Bera (JB):             1502.681\n",
            "Skew:                           1.846   Prob(JB):                         0.00\n",
            "Kurtosis:                      14.965   Cond. No.                         1.00\n",
            "==============================================================================\n",
            "\n",
            "Notes:\n",
            "[1] Standard Errors are heteroscedasticity and autocorrelation robust (HAC) using 10 lags and without small sample correction\n"
          ]
        }
      ]
    },
    {
      "cell_type": "code",
      "source": [
        "# compare two models\n",
        "# rw & ar(2)\n",
        "d1 = res_rw.resid**2 - res_ar2.resid**2 \n",
        "const = np.ones(len(d1))\n",
        "y = d1\n",
        "x = const\n",
        "res_comp = sm.OLS(y,x,missing='drop').fit(cov_type='HAC',cov_kwds={'maxlags':10})\n",
        "print(res_comp.summary())"
      ],
      "metadata": {
        "id": "MzqaKvMdXZ5R",
        "outputId": "da93c5ce-5194-4553-958d-6da996327f0f",
        "colab": {
          "base_uri": "https://localhost:8080/"
        }
      },
      "execution_count": 28,
      "outputs": [
        {
          "output_type": "stream",
          "name": "stdout",
          "text": [
            "                            OLS Regression Results                            \n",
            "==============================================================================\n",
            "Dep. Variable:                      y   R-squared:                       0.000\n",
            "Model:                            OLS   Adj. R-squared:                  0.000\n",
            "Method:                 Least Squares   F-statistic:                       nan\n",
            "Date:                Thu, 04 May 2023   Prob (F-statistic):                nan\n",
            "Time:                        03:17:11   Log-Likelihood:                 1608.5\n",
            "No. Observations:                 229   AIC:                            -3215.\n",
            "Df Residuals:                     228   BIC:                            -3211.\n",
            "Df Model:                           0                                         \n",
            "Covariance Type:                  HAC                                         \n",
            "==============================================================================\n",
            "                 coef    std err          z      P>|z|      [0.025      0.975]\n",
            "------------------------------------------------------------------------------\n",
            "const       1.141e-05   1.97e-05      0.578      0.563   -2.73e-05    5.01e-05\n",
            "==============================================================================\n",
            "Omnibus:                      279.540   Durbin-Watson:                   1.588\n",
            "Prob(Omnibus):                  0.000   Jarque-Bera (JB):            24320.073\n",
            "Skew:                           4.941   Prob(JB):                         0.00\n",
            "Kurtosis:                      52.510   Cond. No.                         1.00\n",
            "==============================================================================\n",
            "\n",
            "Notes:\n",
            "[1] Standard Errors are heteroscedasticity and autocorrelation robust (HAC) using 10 lags and without small sample correction\n"
          ]
        }
      ]
    },
    {
      "cell_type": "code",
      "source": [
        "len(data)"
      ],
      "metadata": {
        "id": "ybHim860yO92",
        "outputId": "268278ca-469c-447b-8fa0-5f5558e712a1",
        "colab": {
          "base_uri": "https://localhost:8080/"
        }
      },
      "execution_count": 29,
      "outputs": [
        {
          "output_type": "execute_result",
          "data": {
            "text/plain": [
              "232"
            ]
          },
          "metadata": {},
          "execution_count": 29
        }
      ]
    },
    {
      "cell_type": "code",
      "source": [
        "data.ret_gbp[:5]"
      ],
      "metadata": {
        "id": "UGMb1F2mysog",
        "outputId": "627923d3-42da-4652-c916-87e0ad6967fa",
        "colab": {
          "base_uri": "https://localhost:8080/"
        }
      },
      "execution_count": 30,
      "outputs": [
        {
          "output_type": "execute_result",
          "data": {
            "text/plain": [
              "Date\n",
              "2004-01-01         NaN\n",
              "2004-02-01    0.027036\n",
              "2004-03-01   -0.016730\n",
              "2004-04-01   -0.035778\n",
              "2004-05-01    0.029914\n",
              "Name: ret_gbp, dtype: float64"
            ]
          },
          "metadata": {},
          "execution_count": 30
        }
      ]
    },
    {
      "cell_type": "code",
      "source": [
        "# estimate random walk model\n",
        "data['const'] = 1 # construct the constant term\n",
        "y = data.ret_gbp[:200]\n",
        "x = data.const[:200]\n",
        "res_rw_insample = sm.OLS(y,x,missing='drop').fit()\n",
        "print(res_rw_insample.summary())"
      ],
      "metadata": {
        "id": "gs2k1Wllyl3p",
        "outputId": "db9a5222-697c-4923-ecc4-8106a04410d5",
        "colab": {
          "base_uri": "https://localhost:8080/"
        }
      },
      "execution_count": 31,
      "outputs": [
        {
          "output_type": "stream",
          "name": "stdout",
          "text": [
            "                            OLS Regression Results                            \n",
            "==============================================================================\n",
            "Dep. Variable:                ret_gbp   R-squared:                       0.000\n",
            "Model:                            OLS   Adj. R-squared:                  0.000\n",
            "Method:                 Least Squares   F-statistic:                       nan\n",
            "Date:                Thu, 04 May 2023   Prob (F-statistic):                nan\n",
            "Time:                        03:26:08   Log-Likelihood:                 447.96\n",
            "No. Observations:                 199   AIC:                            -893.9\n",
            "Df Residuals:                     198   BIC:                            -890.6\n",
            "Df Model:                           0                                         \n",
            "Covariance Type:            nonrobust                                         \n",
            "==============================================================================\n",
            "                 coef    std err          t      P>|t|      [0.025      0.975]\n",
            "------------------------------------------------------------------------------\n",
            "const         -0.0016      0.002     -0.866      0.388      -0.005       0.002\n",
            "==============================================================================\n",
            "Omnibus:                       19.074   Durbin-Watson:                   1.860\n",
            "Prob(Omnibus):                  0.000   Jarque-Bera (JB):               42.555\n",
            "Skew:                          -0.413   Prob(JB):                     5.75e-10\n",
            "Kurtosis:                       5.109   Cond. No.                         1.00\n",
            "==============================================================================\n",
            "\n",
            "Notes:\n",
            "[1] Standard Errors assume that the covariance matrix of the errors is correctly specified.\n"
          ]
        }
      ]
    },
    {
      "cell_type": "code",
      "source": [
        "data.ret_gbp[:200]"
      ],
      "metadata": {
        "id": "1rk3WOGzzaya",
        "outputId": "a6524dfc-3e0b-4f6c-c260-c97ff64e59c9",
        "colab": {
          "base_uri": "https://localhost:8080/"
        }
      },
      "execution_count": 32,
      "outputs": [
        {
          "output_type": "execute_result",
          "data": {
            "text/plain": [
              "Date\n",
              "2004-01-01         NaN\n",
              "2004-02-01    0.027036\n",
              "2004-03-01   -0.016730\n",
              "2004-04-01   -0.035778\n",
              "2004-05-01    0.029914\n",
              "                ...   \n",
              "2020-04-01    0.008037\n",
              "2020-05-01   -0.010193\n",
              "2020-06-01   -0.002792\n",
              "2020-07-01    0.063516\n",
              "2020-08-01    0.018028\n",
              "Name: ret_gbp, Length: 200, dtype: float64"
            ]
          },
          "metadata": {},
          "execution_count": 32
        }
      ]
    },
    {
      "cell_type": "code",
      "source": [
        "data.ret_gbp[0+200]"
      ],
      "metadata": {
        "id": "oXCDwOILzoru",
        "outputId": "2e14e37c-6b29-4c35-9b31-177302b5fd03",
        "colab": {
          "base_uri": "https://localhost:8080/"
        }
      },
      "execution_count": 36,
      "outputs": [
        {
          "output_type": "execute_result",
          "data": {
            "text/plain": [
              "-0.03737220379599965"
            ]
          },
          "metadata": {},
          "execution_count": 36
        }
      ]
    },
    {
      "cell_type": "code",
      "source": [
        "# out-of-sample: random walk\n",
        "# fix parameters method \n",
        "R = 200\n",
        "T = len(data)\n",
        "rr = np.zeros(T-R)\n",
        "for i in range(T-R):\n",
        "  fit = res_rw_insample.params[0]\n",
        "  rr[i] = data.ret_gbp[i+R]- fit\n",
        "plt.plot(rr)\n"
      ],
      "metadata": {
        "id": "gl0cm1zCkZxa",
        "outputId": "985db86c-9243-4f81-9d7b-b1f5be2c0360",
        "colab": {
          "base_uri": "https://localhost:8080/",
          "height": 447
        }
      },
      "execution_count": 39,
      "outputs": [
        {
          "output_type": "execute_result",
          "data": {
            "text/plain": [
              "[<matplotlib.lines.Line2D at 0x7f3cebdbd3f0>]"
            ]
          },
          "metadata": {},
          "execution_count": 39
        },
        {
          "output_type": "display_data",
          "data": {
            "text/plain": [
              "<Figure size 640x480 with 1 Axes>"
            ],
            "image/png": "[encoded data removed]"
          },
          "metadata": {}
        }
      ]
    },
    {
      "cell_type": "code",
      "source": [
        "# estimate AR(1)\n",
        "y = data.ret_gbp[:200]\n",
        "x = sm.add_constant(data['ret_gbp_1'])[:200]\n",
        "res_ar1_insample = sm.OLS(y,x,missing='drop').fit()\n",
        "print(res_ar1_insample.summary())"
      ],
      "metadata": {
        "id": "vwoqFypr3hXO",
        "outputId": "d1c50dd2-2c68-4b42-b23d-46f049716b6f",
        "colab": {
          "base_uri": "https://localhost:8080/"
        }
      },
      "execution_count": 42,
      "outputs": [
        {
          "output_type": "stream",
          "name": "stdout",
          "text": [
            "                            OLS Regression Results                            \n",
            "==============================================================================\n",
            "Dep. Variable:                ret_gbp   R-squared:                       0.004\n",
            "Model:                            OLS   Adj. R-squared:                 -0.001\n",
            "Method:                 Least Squares   F-statistic:                    0.8489\n",
            "Date:                Thu, 04 May 2023   Prob (F-statistic):              0.358\n",
            "Time:                        03:47:50   Log-Likelihood:                 446.27\n",
            "No. Observations:                 198   AIC:                            -888.5\n",
            "Df Residuals:                     196   BIC:                            -882.0\n",
            "Df Model:                           1                                         \n",
            "Covariance Type:            nonrobust                                         \n",
            "==============================================================================\n",
            "                 coef    std err          t      P>|t|      [0.025      0.975]\n",
            "------------------------------------------------------------------------------\n",
            "const         -0.0016      0.002     -0.881      0.379      -0.005       0.002\n",
            "ret_gbp_1      0.0656      0.071      0.921      0.358      -0.075       0.206\n",
            "==============================================================================\n",
            "Omnibus:                       18.017   Durbin-Watson:                   2.007\n",
            "Prob(Omnibus):                  0.000   Jarque-Bera (JB):               39.292\n",
            "Skew:                          -0.394   Prob(JB):                     2.94e-09\n",
            "Kurtosis:                       5.035   Cond. No.                         39.2\n",
            "==============================================================================\n",
            "\n",
            "Notes:\n",
            "[1] Standard Errors assume that the covariance matrix of the errors is correctly specified.\n"
          ]
        }
      ]
    },
    {
      "cell_type": "code",
      "source": [
        "# out-of-sample: ar(1)\n",
        "# fix parameters method \n",
        "R = 200\n",
        "T = len(data)\n",
        "rr = np.zeros(T-R)\n",
        "# Step1: 樣本內估計AR(1)模型\n",
        "y = data.ret_gbp[:200]\n",
        "x = sm.add_constant(data[['ret_gbp_1','ret_gbp_2']])[:200]\n",
        "res_ar2_insample = sm.OLS(y,x,missing='drop').fit()\n",
        "# Step2: 建立樣本外誤差\n",
        "for i in range(T-R):\n",
        "  # 估計樣本外的資料\n",
        "  fit = res_ar1_insample.params[0]+res_ar1_insample.params[1]*data.ret_gbp[i+R-1]  \n",
        "  # 計算樣本外誤差並儲存在rr的變數\n",
        "  rr[i] = data.ret_gbp[i+R] - fit\n",
        "rr\n"
      ],
      "metadata": {
        "id": "fV3FrBQiWDrN",
        "outputId": "bf00effc-df80-4861-c50f-29c119dbe2ed",
        "colab": {
          "base_uri": "https://localhost:8080/"
        }
      },
      "execution_count": 45,
      "outputs": [
        {
          "output_type": "execute_result",
          "data": {
            "text/plain": [
              "array([-0.03695157,  0.01044174,  0.03032507,  0.02185345,  0.00566214,\n",
              "        0.0174516 , -0.01271001,  0.01735901,  0.01680236, -0.02355552,\n",
              "        0.00759807, -0.00906509, -0.02229159,  0.0226547 , -0.02744322,\n",
              "        0.01709745, -0.0063556 , -0.00018383, -0.01593273, -0.04110378,\n",
              "        0.0101896 , -0.04036357,  0.00829439, -0.04230863, -0.03849864,\n",
              "        0.0418933 ,  0.02895842,  0.01230188,  0.02159892, -0.02368736,\n",
              "        0.02981691,  0.01497664])"
            ]
          },
          "metadata": {},
          "execution_count": 45
        }
      ]
    },
    {
      "cell_type": "code",
      "source": [
        "# out-of-sample: ar(2)\n",
        "# fix parameters method \n",
        "R = 200\n",
        "T = len(data)\n",
        "rr = np.zeros(T-R)\n",
        "# Step1: 樣本內估計AR(2)模型 (res_ar2_insample)\n",
        "y = data.ret_gbp[:200]\n",
        "x = sm.add_constant(data[['ret_gbp_1','ret_gbp_2']])[:200]\n",
        "res_ar2_insample = sm.OLS(y,x,missing='drop').fit()\n",
        "# Step2: 建立樣本外的誤差\n",
        "for i in range(T-R):\n",
        "  fit = res_ar2_insample.params[0]+res_ar2_insample.params[1]*data.ret_gbp[i+R-1]+res_ar2_insample.params[2]*data.ret_gbp[i+R-2]    \n",
        "  rr[i] = data.ret_gbp[i+R]- fit\n",
        "rr\n"
      ],
      "metadata": {
        "id": "zzD9apvvkf7s",
        "outputId": "2a65a30d-9cac-40d8-cd48-b3fbf27faa0f",
        "colab": {
          "base_uri": "https://localhost:8080/"
        }
      },
      "execution_count": 48,
      "outputs": [
        {
          "output_type": "execute_result",
          "data": {
            "text/plain": [
              "array([-0.0464377 ,  0.00730447,  0.03539616,  0.0206859 ,  0.00117055,\n",
              "        0.01389938, -0.01380595,  0.0145881 ,  0.01841726, -0.02600902,\n",
              "        0.00478576, -0.00592441, -0.02334253,  0.02368495, -0.02416921,\n",
              "        0.01379664, -0.00264341, -0.00256107, -0.01528711, -0.04122097,\n",
              "        0.0121949 , -0.03435525,  0.0069223 , -0.03663701, -0.03962673,\n",
              "        0.0476623 ,  0.03497195,  0.00663655,  0.01696948, -0.0257975 ,\n",
              "        0.02633207,  0.01818739])"
            ]
          },
          "metadata": {},
          "execution_count": 48
        }
      ]
    },
    {
      "cell_type": "code",
      "source": [
        "# out-of-sample: ar(1)\n",
        "# rolling windows method \n",
        "R = 200\n",
        "T = len(data)\n",
        "rr_rolling = np.zeros(T-R)\n",
        "# Step2: 建立樣本外誤差\n",
        "for i in range(T-R):\n",
        "  # Step1: 樣本內估計AR(1)模型\n",
        "  y = data.ret_gbp[0+i:200+i]\n",
        "  x = sm.add_constant(data[['ret_gbp_1']])[0+i:200+i]\n",
        "  res_ar1_insample = sm.OLS(y,x,missing='drop').fit()\n",
        "  # 估計樣本外的資料\n",
        "  fit = res_ar1_insample.params[0]+res_ar1_insample.params[1]*data.ret_gbp[i+R-1]  \n",
        "  # 計算樣本外誤差並儲存在rr的變數\n",
        "  rr_rolling[i] = data.ret_gbp[i+R] - fit\n",
        "rr_rolling\n"
      ],
      "metadata": {
        "id": "fH-UEXys5gtJ",
        "outputId": "e70c7ddf-f7af-4806-8f97-0126e730f239",
        "colab": {
          "base_uri": "https://localhost:8080/"
        }
      },
      "execution_count": 50,
      "outputs": [
        {
          "output_type": "execute_result",
          "data": {
            "text/plain": [
              "array([-0.03695157,  0.0104267 ,  0.0305264 ,  0.02183769,  0.00532033,\n",
              "        0.01715753, -0.01326623,  0.01718983,  0.01625722, -0.02419918,\n",
              "        0.00749048, -0.00917675, -0.02234505,  0.02266261, -0.02746512,\n",
              "        0.01707562, -0.00627379, -0.00038018, -0.01617988, -0.04146062,\n",
              "        0.0104364 , -0.04045586,  0.00860577, -0.04228607, -0.03830625,\n",
              "        0.04300078,  0.02915516,  0.01208346,  0.02168186, -0.02358079,\n",
              "        0.03040336,  0.01515602])"
            ]
          },
          "metadata": {},
          "execution_count": 50
        }
      ]
    },
    {
      "cell_type": "code",
      "source": [
        "# newey-west standard error\n",
        "sm.OLS(y,x,missing='drop').fit(cov_type='HAC',cov_kwds={'maxlags':1})"
      ],
      "metadata": {
        "id": "xL9DFk01Z1UJ"
      },
      "execution_count": null,
      "outputs": []
    }
  ]
}