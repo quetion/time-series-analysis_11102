{
  "nbformat": 4,
  "nbformat_minor": 0,
  "metadata": {
    "colab": {
      "provenance": [],
      "authorship_tag": "ABX9TyPdBWK4r4ZS/emAxpTW2W4Q",
      "include_colab_link": true
    },
    "kernelspec": {
      "name": "python3",
      "display_name": "Python 3"
    },
    "language_info": {
      "name": "python"
    }
  },
  "cells": [
    {
      "cell_type": "markdown",
      "metadata": {
        "id": "view-in-github",
        "colab_type": "text"
      },
      "source": [
        "<a href=\"https://colab.research.google.com/github/quetion/time-series-analysis_11102/blob/main/TS_week11.ipynb\" target=\"_parent\"><img src=\"https://colab.research.google.com/assets/colab-badge.svg\" alt=\"Open In Colab\"/></a>"
      ]
    },
    {
      "cell_type": "code",
      "execution_count": 1,
      "metadata": {
        "id": "Hz0HZ6S1Ry-r"
      },
      "outputs": [],
      "source": [
        "import numpy as np\n",
        "import pandas as pd\n",
        "import matplotlib.pyplot as plt # plot \n",
        "import statsmodels.api as sm # regression "
      ]
    },
    {
      "cell_type": "code",
      "source": [
        "!pip install yfinance\n",
        "import yfinance as yf # download data"
      ],
      "metadata": {
        "colab": {
          "base_uri": "https://localhost:8080/"
        },
        "id": "u_G9qudLSNG2",
        "outputId": "52cb70cc-d5da-4668-943d-70f8bab50277"
      },
      "execution_count": 2,
      "outputs": [
        {
          "output_type": "stream",
          "name": "stdout",
          "text": [
            "Looking in indexes: https://pypi.org/simple, https://us-python.pkg.dev/colab-wheels/public/simple/\n",
            "Requirement already satisfied: yfinance in /usr/local/lib/python3.9/dist-packages (0.2.18)\n",
            "Requirement already satisfied: beautifulsoup4>=4.11.1 in /usr/local/lib/python3.9/dist-packages (from yfinance) (4.11.2)\n",
            "Requirement already satisfied: numpy>=1.16.5 in /usr/local/lib/python3.9/dist-packages (from yfinance) (1.22.4)\n",
            "Requirement already satisfied: pandas>=1.3.0 in /usr/local/lib/python3.9/dist-packages (from yfinance) (1.5.3)\n",
            "Requirement already satisfied: frozendict>=2.3.4 in /usr/local/lib/python3.9/dist-packages (from yfinance) (2.3.7)\n",
            "Requirement already satisfied: html5lib>=1.1 in /usr/local/lib/python3.9/dist-packages (from yfinance) (1.1)\n",
            "Requirement already satisfied: requests>=2.26 in /usr/local/lib/python3.9/dist-packages (from yfinance) (2.27.1)\n",
            "Requirement already satisfied: multitasking>=0.0.7 in /usr/local/lib/python3.9/dist-packages (from yfinance) (0.0.11)\n",
            "Requirement already satisfied: cryptography>=3.3.2 in /usr/local/lib/python3.9/dist-packages (from yfinance) (40.0.2)\n",
            "Requirement already satisfied: appdirs>=1.4.4 in /usr/local/lib/python3.9/dist-packages (from yfinance) (1.4.4)\n",
            "Requirement already satisfied: lxml>=4.9.1 in /usr/local/lib/python3.9/dist-packages (from yfinance) (4.9.2)\n",
            "Requirement already satisfied: pytz>=2022.5 in /usr/local/lib/python3.9/dist-packages (from yfinance) (2022.7.1)\n",
            "Requirement already satisfied: soupsieve>1.2 in /usr/local/lib/python3.9/dist-packages (from beautifulsoup4>=4.11.1->yfinance) (2.4.1)\n",
            "Requirement already satisfied: cffi>=1.12 in /usr/local/lib/python3.9/dist-packages (from cryptography>=3.3.2->yfinance) (1.15.1)\n",
            "Requirement already satisfied: webencodings in /usr/local/lib/python3.9/dist-packages (from html5lib>=1.1->yfinance) (0.5.1)\n",
            "Requirement already satisfied: six>=1.9 in /usr/local/lib/python3.9/dist-packages (from html5lib>=1.1->yfinance) (1.16.0)\n",
            "Requirement already satisfied: python-dateutil>=2.8.1 in /usr/local/lib/python3.9/dist-packages (from pandas>=1.3.0->yfinance) (2.8.2)\n",
            "Requirement already satisfied: certifi>=2017.4.17 in /usr/local/lib/python3.9/dist-packages (from requests>=2.26->yfinance) (2022.12.7)\n",
            "Requirement already satisfied: urllib3<1.27,>=1.21.1 in /usr/local/lib/python3.9/dist-packages (from requests>=2.26->yfinance) (1.26.15)\n",
            "Requirement already satisfied: idna<4,>=2.5 in /usr/local/lib/python3.9/dist-packages (from requests>=2.26->yfinance) (3.4)\n",
            "Requirement already satisfied: charset-normalizer~=2.0.0 in /usr/local/lib/python3.9/dist-packages (from requests>=2.26->yfinance) (2.0.12)\n",
            "Requirement already satisfied: pycparser in /usr/local/lib/python3.9/dist-packages (from cffi>=1.12->cryptography>=3.3.2->yfinance) (2.21)\n"
          ]
        }
      ]
    },
    {
      "cell_type": "code",
      "source": [
        "data = yf.download('GBPUSD=X',interval='1mo') # download 'GBPUSD=X' monthly data"
      ],
      "metadata": {
        "colab": {
          "base_uri": "https://localhost:8080/"
        },
        "id": "ehww44gvSQbN",
        "outputId": "36138bca-3bfe-410c-f9ce-35097b0ed148"
      },
      "execution_count": 3,
      "outputs": [
        {
          "output_type": "stream",
          "name": "stdout",
          "text": [
            "\r[*********************100%***********************]  1 of 1 completed\n"
          ]
        }
      ]
    },
    {
      "cell_type": "code",
      "source": [
        "data.info()"
      ],
      "metadata": {
        "colab": {
          "base_uri": "https://localhost:8080/"
        },
        "id": "gUiHuh4n5rc3",
        "outputId": "0f54448b-eae7-476f-e63b-8ac100526c44"
      },
      "execution_count": 6,
      "outputs": [
        {
          "output_type": "stream",
          "name": "stdout",
          "text": [
            "<class 'pandas.core.frame.DataFrame'>\n",
            "DatetimeIndex: 232 entries, 2004-01-01 to 2023-04-01\n",
            "Data columns (total 1 columns):\n",
            " #   Column     Non-Null Count  Dtype  \n",
            "---  ------     --------------  -----  \n",
            " 0   Adj Close  232 non-null    float64\n",
            "dtypes: float64(1)\n",
            "memory usage: 3.6 KB\n"
          ]
        }
      ]
    },
    {
      "cell_type": "code",
      "source": [
        "data = data['2004':'2023-04'] # set sample period: 2004/01 - 2023/04\n",
        "data = data[['Adj Close']] # select data variable: 'Adj Close'"
      ],
      "metadata": {
        "id": "-IUttHbfTUgv"
      },
      "execution_count": 5,
      "outputs": []
    },
    {
      "cell_type": "code",
      "source": [
        "data.columns = ['price_gbp'] # rename data columns\n",
        "data['ret_gbp'] = np.log(data.price_gbp).diff() # add return variable\n",
        "data.info()"
      ],
      "metadata": {
        "colab": {
          "base_uri": "https://localhost:8080/"
        },
        "id": "ggcCp79ZZhGm",
        "outputId": "89b47da2-eb14-4685-ca97-ca59d02bf447"
      },
      "execution_count": 7,
      "outputs": [
        {
          "output_type": "stream",
          "name": "stdout",
          "text": [
            "<class 'pandas.core.frame.DataFrame'>\n",
            "DatetimeIndex: 232 entries, 2004-01-01 to 2023-04-01\n",
            "Data columns (total 2 columns):\n",
            " #   Column     Non-Null Count  Dtype  \n",
            "---  ------     --------------  -----  \n",
            " 0   price_gbp  232 non-null    float64\n",
            " 1   ret_gbp    231 non-null    float64\n",
            "dtypes: float64(2)\n",
            "memory usage: 5.4 KB\n"
          ]
        }
      ]
    },
    {
      "cell_type": "code",
      "source": [
        "data.price_gbp.plot()"
      ],
      "metadata": {
        "colab": {
          "base_uri": "https://localhost:8080/",
          "height": 466
        },
        "id": "5zWCebpTTVS-",
        "outputId": "8aa2d4e6-b350-4018-f2fd-f18be1920e8f"
      },
      "execution_count": 8,
      "outputs": [
        {
          "output_type": "execute_result",
          "data": {
            "text/plain": [
              "<Axes: xlabel='Date'>"
            ]
          },
          "metadata": {},
          "execution_count": 8
        },
        {
          "output_type": "display_data",
          "data": {
            "text/plain": [
              "<Figure size 640x480 with 1 Axes>"
            ],
            "image/png": "[encoded data removed]"
          },
          "metadata": {}
        }
      ]
    },
    {
      "cell_type": "code",
      "source": [
        "data.ret_gbp.plot()"
      ],
      "metadata": {
        "colab": {
          "base_uri": "https://localhost:8080/",
          "height": 466
        },
        "id": "T545wO75WJ1I",
        "outputId": "25ef127c-6549-4ead-bda4-ce306008772b"
      },
      "execution_count": 9,
      "outputs": [
        {
          "output_type": "execute_result",
          "data": {
            "text/plain": [
              "<Axes: xlabel='Date'>"
            ]
          },
          "metadata": {},
          "execution_count": 9
        },
        {
          "output_type": "display_data",
          "data": {
            "text/plain": [
              "<Figure size 640x480 with 1 Axes>"
            ],
            "image/png": "[encoded data removed]"
          },
          "metadata": {}
        }
      ]
    },
    {
      "cell_type": "code",
      "source": [
        "data['const'] = 1 # construct the constant term\n",
        "y = data.ret_gbp\n",
        "x = data.const\n",
        "res_rw = sm.OLS(y,x,missing='drop').fit()\n",
        "print(res_rw.summary())"
      ],
      "metadata": {
        "colab": {
          "base_uri": "https://localhost:8080/"
        },
        "id": "PTA5kLgvWmAh",
        "outputId": "8e315818-95b8-417f-e65c-0fcbb8e3ec55"
      },
      "execution_count": 10,
      "outputs": [
        {
          "output_type": "stream",
          "name": "stdout",
          "text": [
            "                            OLS Regression Results                            \n",
            "==============================================================================\n",
            "Dep. Variable:                ret_gbp   R-squared:                       0.000\n",
            "Model:                            OLS   Adj. R-squared:                  0.000\n",
            "Method:                 Least Squares   F-statistic:                       nan\n",
            "Date:                Thu, 27 Apr 2023   Prob (F-statistic):                nan\n",
            "Time:                        04:15:43   Log-Likelihood:                 521.93\n",
            "No. Observations:                 231   AIC:                            -1042.\n",
            "Df Residuals:                     230   BIC:                            -1038.\n",
            "Df Model:                           0                                         \n",
            "Covariance Type:            nonrobust                                         \n",
            "==============================================================================\n",
            "                 coef    std err          t      P>|t|      [0.025      0.975]\n",
            "------------------------------------------------------------------------------\n",
            "const         -0.0016      0.002     -0.989      0.324      -0.005       0.002\n",
            "==============================================================================\n",
            "Omnibus:                       18.654   Durbin-Watson:                   1.891\n",
            "Prob(Omnibus):                  0.000   Jarque-Bera (JB):               36.437\n",
            "Skew:                          -0.407   Prob(JB):                     1.22e-08\n",
            "Kurtosis:                       4.767   Cond. No.                         1.00\n",
            "==============================================================================\n",
            "\n",
            "Notes:\n",
            "[1] Standard Errors assume that the covariance matrix of the errors is correctly specified.\n"
          ]
        }
      ]
    },
    {
      "cell_type": "code",
      "source": [
        "data['ret_gbp_1'] = data.ret_gbp.shift() # add lag-one term\n",
        "data['ret_gbp_2'] = data.ret_gbp.shift(2) # add lag-two term\n",
        "y = data.ret_gbp\n",
        "x = sm.add_constant(data['ret_gbp_1'])\n",
        "res_ar1 = sm.OLS(y,x,missing='drop').fit()\n",
        "print(res_ar1.summary())"
      ],
      "metadata": {
        "colab": {
          "base_uri": "https://localhost:8080/"
        },
        "id": "YrvXnJKzXLqP",
        "outputId": "fe034bbb-51bc-4cc5-97f7-802386eb08e4"
      },
      "execution_count": 11,
      "outputs": [
        {
          "output_type": "stream",
          "name": "stdout",
          "text": [
            "                            OLS Regression Results                            \n",
            "==============================================================================\n",
            "Dep. Variable:                ret_gbp   R-squared:                       0.003\n",
            "Model:                            OLS   Adj. R-squared:                 -0.002\n",
            "Method:                 Least Squares   F-statistic:                    0.6068\n",
            "Date:                Thu, 27 Apr 2023   Prob (F-statistic):              0.437\n",
            "Time:                        04:17:24   Log-Likelihood:                 520.13\n",
            "No. Observations:                 230   AIC:                            -1036.\n",
            "Df Residuals:                     228   BIC:                            -1029.\n",
            "Df Model:                           1                                         \n",
            "Covariance Type:            nonrobust                                         \n",
            "==============================================================================\n",
            "                 coef    std err          t      P>|t|      [0.025      0.975]\n",
            "------------------------------------------------------------------------------\n",
            "const         -0.0017      0.002     -1.007      0.315      -0.005       0.002\n",
            "ret_gbp_1      0.0514      0.066      0.779      0.437      -0.079       0.181\n",
            "==============================================================================\n",
            "Omnibus:                       17.670   Durbin-Watson:                   2.004\n",
            "Prob(Omnibus):                  0.000   Jarque-Bera (JB):               33.867\n",
            "Skew:                          -0.390   Prob(JB):                     4.42e-08\n",
            "Kurtosis:                       4.710   Cond. No.                         39.5\n",
            "==============================================================================\n",
            "\n",
            "Notes:\n",
            "[1] Standard Errors assume that the covariance matrix of the errors is correctly specified.\n"
          ]
        }
      ]
    },
    {
      "cell_type": "code",
      "source": [
        "# estimate AR(2)\n",
        "y = data.ret_gbp\n",
        "x = sm.add_constant(data[['ret_gbp_1','ret_gbp_2']])\n",
        "res_ar2 = sm.OLS(y,x,missing='drop').fit()\n",
        "print(res_ar2.summary())"
      ],
      "metadata": {
        "colab": {
          "base_uri": "https://localhost:8080/"
        },
        "id": "Y8TSSfdAZIsp",
        "outputId": "b4d7f76c-5928-4cbc-82be-7bdd6e415d31"
      },
      "execution_count": 12,
      "outputs": [
        {
          "output_type": "stream",
          "name": "stdout",
          "text": [
            "                            OLS Regression Results                            \n",
            "==============================================================================\n",
            "Dep. Variable:                ret_gbp   R-squared:                       0.018\n",
            "Model:                            OLS   Adj. R-squared:                  0.009\n",
            "Method:                 Least Squares   F-statistic:                     2.070\n",
            "Date:                Thu, 27 Apr 2023   Prob (F-statistic):              0.129\n",
            "Time:                        04:18:53   Log-Likelihood:                 519.32\n",
            "No. Observations:                 229   AIC:                            -1033.\n",
            "Df Residuals:                     226   BIC:                            -1022.\n",
            "Df Model:                           2                                         \n",
            "Covariance Type:            nonrobust                                         \n",
            "==============================================================================\n",
            "                 coef    std err          t      P>|t|      [0.025      0.975]\n",
            "------------------------------------------------------------------------------\n",
            "const         -0.0014      0.002     -0.834      0.405      -0.005       0.002\n",
            "ret_gbp_1      0.0485      0.066      0.735      0.463      -0.081       0.178\n",
            "ret_gbp_2      0.1226      0.066      1.858      0.064      -0.007       0.253\n",
            "==============================================================================\n",
            "Omnibus:                       13.945   Durbin-Watson:                   2.011\n",
            "Prob(Omnibus):                  0.001   Jarque-Bera (JB):               25.997\n",
            "Skew:                          -0.299   Prob(JB):                     2.26e-06\n",
            "Kurtosis:                       4.538   Cond. No.                         40.6\n",
            "==============================================================================\n",
            "\n",
            "Notes:\n",
            "[1] Standard Errors assume that the covariance matrix of the errors is correctly specified.\n"
          ]
        }
      ]
    },
    {
      "cell_type": "code",
      "source": [
        "# 估計結果各項物件 \n",
        "# random walk model (benchmark)\n",
        "#res_rw.resid # 誤差\n",
        "#res_rw.params.const # 估計參數數值\n",
        "#res_rw.pvalues # p-values\n",
        "#res_rw.fittedvalues # fitted value of y\n",
        "res_rw.tvalues # t-value"
      ],
      "metadata": {
        "colab": {
          "base_uri": "https://localhost:8080/"
        },
        "id": "rmGNSKGtZUWa",
        "outputId": "d61ad5ea-07cc-4de5-d37a-513ec79f1be3"
      },
      "execution_count": 27,
      "outputs": [
        {
          "output_type": "execute_result",
          "data": {
            "text/plain": [
              "const   -0.988617\n",
              "dtype: float64"
            ]
          },
          "metadata": {},
          "execution_count": 27
        }
      ]
    },
    {
      "cell_type": "code",
      "source": [
        "data.ret_gbp[5] - res_rw.params.const"
      ],
      "metadata": {
        "colab": {
          "base_uri": "https://localhost:8080/"
        },
        "id": "VsIbV85J8upH",
        "outputId": "de02a524-e630-449c-8691-64758125f368"
      },
      "execution_count": 24,
      "outputs": [
        {
          "output_type": "execute_result",
          "data": {
            "text/plain": [
              "-0.00514736442036889"
            ]
          },
          "metadata": {},
          "execution_count": 24
        }
      ]
    },
    {
      "cell_type": "code",
      "source": [
        "# 估計結果各項物件 \n",
        "# AR(1) model (benchmark)\n",
        "#res_ar1.resid # 誤差\n",
        "#res_ar1.params[1] # 估計參數數值\n",
        "#res_ar1.pvalues[1] # p-values\n",
        "res_ar1.fittedvalues # fitted value of y\n",
        "res_ar1.tvalues[0] # t-value"
      ],
      "metadata": {
        "colab": {
          "base_uri": "https://localhost:8080/"
        },
        "id": "CvhK0D2jc9bH",
        "outputId": "da3117af-73a9-4c7f-ee24-205856e11d16"
      },
      "execution_count": 39,
      "outputs": [
        {
          "output_type": "execute_result",
          "data": {
            "text/plain": [
              "-1.0068977686888365"
            ]
          },
          "metadata": {},
          "execution_count": 39
        }
      ]
    },
    {
      "cell_type": "code",
      "source": [
        "data.ret_gbp[2] - (res_ar1.params[0] + res_ar1.params[1]*data.ret_gbp[1])"
      ],
      "metadata": {
        "colab": {
          "base_uri": "https://localhost:8080/"
        },
        "id": "FRXp9T7W9-Ft",
        "outputId": "cdde8acc-2cea-4d69-9140-d27469567378"
      },
      "execution_count": 34,
      "outputs": [
        {
          "output_type": "execute_result",
          "data": {
            "text/plain": [
              "-0.016433965569872876"
            ]
          },
          "metadata": {},
          "execution_count": 34
        }
      ]
    },
    {
      "cell_type": "code",
      "source": [
        "# 估計結果各項物件 \n",
        "# AR(2) model (benchmark)\n",
        "res_ar2.resid # 誤差\n",
        "#res_ar1.params[1] # 估計參數數值\n",
        "#res_ar1.pvalues[1] # p-values\n",
        "#res_ar1.fittedvalues # fitted value of y\n",
        "#res_ar1.tvalues[0] # t-value"
      ],
      "metadata": {
        "colab": {
          "base_uri": "https://localhost:8080/"
        },
        "id": "ruO4TrMl-R5V",
        "outputId": "26c16269-6394-4ff7-95c0-9451fa06f98f"
      },
      "execution_count": 41,
      "outputs": [
        {
          "output_type": "execute_result",
          "data": {
            "text/plain": [
              "Date\n",
              "2004-04-01   -0.036883\n",
              "2004-05-01    0.035097\n",
              "2004-06-01   -0.002463\n",
              "2004-07-01   -0.000902\n",
              "2004-08-01   -0.008640\n",
              "                ...   \n",
              "2022-12-01    0.008012\n",
              "2023-01-01    0.017955\n",
              "2023-02-01   -0.025088\n",
              "2023-03-01    0.026651\n",
              "2023-04-01    0.009824\n",
              "Length: 229, dtype: float64"
            ]
          },
          "metadata": {},
          "execution_count": 41
        }
      ]
    },
    {
      "cell_type": "code",
      "source": [
        "res_ar2.resid"
      ],
      "metadata": {
        "colab": {
          "base_uri": "https://localhost:8080/"
        },
        "id": "ISQX3_LzDenG",
        "outputId": "da7383d4-03f1-41b4-9053-feb33ee4fd59"
      },
      "execution_count": 69,
      "outputs": [
        {
          "output_type": "execute_result",
          "data": {
            "text/plain": [
              "Date\n",
              "2004-04-01   -0.036883\n",
              "2004-05-01    0.035097\n",
              "2004-06-01   -0.002463\n",
              "2004-07-01   -0.000902\n",
              "2004-08-01   -0.008640\n",
              "                ...   \n",
              "2022-12-01    0.008012\n",
              "2023-01-01    0.017955\n",
              "2023-02-01   -0.025088\n",
              "2023-03-01    0.026651\n",
              "2023-04-01    0.009824\n",
              "Length: 229, dtype: float64"
            ]
          },
          "metadata": {},
          "execution_count": 69
        }
      ]
    },
    {
      "cell_type": "code",
      "source": [
        "# resid for 2004-04-01\n",
        "ans = res_ar2.resid[0]\n",
        "print('2004-04的誤差為{:.4f}'.format(ans))\n",
        "real_y = data.ret_gbp[3]\n",
        "est_y = res_ar2.params[0]+res_ar2.params[1]*data.ret_gbp[2]+res_ar2.params[2]*data.ret_gbp[1]\n",
        "myans = real_y - est_y\n",
        "print('實際估算結果為{:.4f}'.format(myans))\n"
      ],
      "metadata": {
        "colab": {
          "base_uri": "https://localhost:8080/"
        },
        "id": "q8MLTrhF_sFW",
        "outputId": "66d808a7-157f-426e-ea69-b7692e88f125"
      },
      "execution_count": 66,
      "outputs": [
        {
          "output_type": "stream",
          "name": "stdout",
          "text": [
            "2004-04的誤差為-0.0369\n",
            "實際估算結果為-0.0369\n"
          ]
        }
      ]
    },
    {
      "cell_type": "code",
      "source": [
        "# resid for 2010-01-01\n",
        "loc = 9+5*12+1-1\n",
        "ans = res_ar2.resid[loc]\n",
        "print('2010-01的誤差為{:.4f}'.format(ans))\n",
        "real_y = data.ret_gbp[3]\n",
        "est_y = res_ar2.params[0]+res_ar2.params[1]*data.ret_gbp[2]+res_ar2.params[2]*data.ret_gbp[1]\n",
        "myans = real_y - est_y\n",
        "#print('實際估算結果為{:.4f}'.format(myans))\n"
      ],
      "metadata": {
        "colab": {
          "base_uri": "https://localhost:8080/"
        },
        "id": "vn2LE6KwCZKG",
        "outputId": "b704a534-4173-4c07-c9b8-60b2836a7964"
      },
      "execution_count": 63,
      "outputs": [
        {
          "output_type": "stream",
          "name": "stdout",
          "text": [
            "2010-01的誤差為-0.0107\n"
          ]
        }
      ]
    },
    {
      "cell_type": "code",
      "source": [
        "np.mean(res_ar2.resid**2)"
      ],
      "metadata": {
        "colab": {
          "base_uri": "https://localhost:8080/"
        },
        "id": "k1g16bToCsFj",
        "outputId": "787a7833-13c0-4792-b952-bd800551ffdf"
      },
      "execution_count": 75,
      "outputs": [
        {
          "output_type": "execute_result",
          "data": {
            "text/plain": [
              "0.0006277325940326306"
            ]
          },
          "metadata": {},
          "execution_count": 75
        }
      ]
    },
    {
      "cell_type": "code",
      "source": [
        "# newey-west standard error\n",
        "sm.OLS(y,x,missing='drop').fit(cov_type='HAC',cov_kwds={'maxlags':1})"
      ],
      "metadata": {
        "id": "xL9DFk01Z1UJ"
      },
      "execution_count": null,
      "outputs": []
    }
  ]
}